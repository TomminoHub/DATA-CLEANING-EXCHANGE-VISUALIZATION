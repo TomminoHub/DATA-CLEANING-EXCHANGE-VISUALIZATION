{
 "cells": [
  {
   "cell_type": "code",
   "execution_count": 50,
   "id": "unsigned-richardson",
   "metadata": {},
   "outputs": [],
   "source": [
    "import requests\n",
    "import xml.etree.ElementTree as ET\n",
    "import dicttoxml\n",
    "import json\n",
    "import matplotlib.pyplot as plt"
   ]
  },
  {
   "cell_type": "markdown",
   "id": "contained-heather",
   "metadata": {},
   "source": [
    "# Introduction to knowledge graphs\n",
    "\n",
    "In this assignment, we set the stage for the group project of 2AMD20. Through some small exercises, we introduce you to our expectations of the project. There are four parts, which correspond to the four requirements you can choose from in the group assignment: \n",
    "* Knowledge graphs and modeling (mandatory)\n",
    "* Data quality and cleaning\n",
    "* Data exchange\n",
    "* Visual analytics\n",
    "\n",
    "**All four parts are required in this mini-assignment, such that you can get a feel for what each of them means.**"
   ]
  },
  {
   "cell_type": "markdown",
   "id": "yellow-conservative",
   "metadata": {},
   "source": [
    "# 1. Knowledge graphs\n",
    "The first requirement for the group assignment is that you use knowledge graphs. This means that you use data in a graph format, preferably RDF, and its corresponding query language. In this mini-assignment, we will use XML, so that you have more time to get used to RDF and SPARQL.\n",
    "\n",
    "We have prepared a dataset for you, but you may also add download/query/import extra data for this assignment. The data file we have prepared comes from a news api, which gathers news from \"over 80,000 large and small news sources and blogs\". We have searched for articles about Football, in the languages of all the countries where football is most popular."
   ]
  },
  {
   "cell_type": "code",
   "execution_count": 51,
   "id": "applicable-payroll",
   "metadata": {},
   "outputs": [],
   "source": [
    "# We can open XML data from a file.\n",
    "\n",
    "tree = ET.parse('football_id.xml')\n",
    "data = tree.getroot()\n",
    "\n",
    "# To help you identify the articles, here are the keywords we used.\n",
    "used_keywords = {\n",
    "    'England': 'football',\n",
    "    'Netherlands': 'voetbal',\n",
    "    'USA': 'soccer',\n",
    "    'Brazil/Portugal': 'futebol',\n",
    "    'Germany': 'fussball',\n",
    "    'Italian': 'calcio',\n",
    "    'Spain/Argentina/Uruguay': 'fútbol',\n",
    "    'France': 'le foot',\n",
    "    'european': 'uefa',\n",
    "    'world': 'fifa'\n",
    "}\n"
   ]
  },
  {
   "cell_type": "code",
   "execution_count": 52,
   "id": "bibliographic-makeup",
   "metadata": {},
   "outputs": [],
   "source": [
    "# If you want, you can retrieve news data from news api, \n",
    "# after you get your own apikey by creating an account: https://newsapi.org/docs/endpoints/everything\n",
    "\n",
    "# apikey = '' \n",
    "# keyword = 'fifa'\n",
    "\n",
    "# r = requests.get('https://newsapi.org/v2/everything?q=' + keyword + '&sortBy=relevancy&page=1&apiKey=' + apikey)\n",
    "# json_data = json.loads(r.content)['articles']\n",
    "\n",
    "# xml_data = dicttoxml.dicttoxml(json_data, return_bytes=False)\n",
    "# data = ET.fromstring(xml_data)\n",
    "\n"
   ]
  },
  {
   "cell_type": "code",
   "execution_count": 53,
   "id": "champion-checklist",
   "metadata": {},
   "outputs": [
    {
     "name": "stdout",
     "output_type": "stream",
     "text": [
      "<article id=\"0\" type=\"dict\">\n",
      "        <source type=\"dict\">\n",
      "        <id type=\"str\">le-monde</id>\n",
      "        <name type=\"str\">Le Monde</name>\n",
      "        </source>\n",
      "        <author type=\"str\">Laura Pottier</author>\n",
      "        <title type=\"str\">France-Canada\\xa0: la gr&#232;ve pour l&#8217;&#233;quit&#233; dans le foot, le combat men&#233; par les Canadiennes</title>\n",
      "        <description type=\"str\">Championnes olympiques, les Canadiennes, qui affrontent les Bleues d&#8217;Herv&#233; Renard mardi, r&#233;clament des moyens &#233;gaux &#224; ceux de leurs homologues masculins.</description>\n",
      "        <url type=\"str\">https://www.lemonde.fr/sport/article/2023/04/11/france-canada-la-greve-pour-l-equite-dans-le-foot-le-combat-mene-par-les-canadiennes_6169093_3242.html</url>\n",
      "        <urlToImage type=\"str\">https://img.lemde.fr/2019/06/15/98/0/3500/2333/1440/960/60/0/7b3b61d_AI_SOCCER-WORLDCUP-CAN-NZL-_0615_1F.JPG</urlToImage>\n",
      "        <publishedAt type=\"str\">2023-04-11T15:00:01Z</publishedAt>\n",
      "        <content type=\"str\">Les Canadiennes, lors de leur match contre la Nouvelle-Z&#233;lande pendant la derni&#232;re Coupe du monde, le 15\\xa0juin\\xa02019, &#224; Grenoble. DENIS BALIBOUSE / REUTERS\\r\\nLe climat social en France ne devrait pas tr&#8230; [+5360 chars]</content>\n",
      "    </article>\n",
      "    \n"
     ]
    }
   ],
   "source": [
    "# The structure of the data is as follows: \n",
    "\n",
    "print(ET.tostring(data[0]).decode())"
   ]
  },
  {
   "cell_type": "code",
   "execution_count": 54,
   "id": "severe-trust",
   "metadata": {},
   "outputs": [
    {
     "name": "stdout",
     "output_type": "stream",
     "text": [
      "1\n",
      "le-monde\n",
      "Le Monde\n",
      "Alexia Eychenne\n",
      "L’aventure sud-africaine des «\\xa0mamies foot\\xa0»\\xa0: «\\xa0J’ai mal au dos. J’ai de l’arthrose. Au pire, on prend un cachet après le match\\xa0»\n",
      "Fin mars, treize Françaises, âgées de 52\\xa0à 68\\xa0ans, s’envolent pour le premier tournoi international des Soccer Grannies, en Afrique du Sud. Pour le plaisir du jeu, du collectif et le défi d’accepter son corps.\n",
      "https://www.lemonde.fr/m-le-mag/article/2023/03/26/l-aventure-sud-africaine-des-mamies-foot-j-ai-mal-au-dos-j-ai-de-l-arthrose-au-pire-on-prend-un-cachet-apres-le-match_6166993_4500055.html\n",
      "2023-03-26T02:00:03Z\n",
      "Entraînement des «\\xa0mamies foot\\xa0» avec leur coach, Patricia Vittorelli, au gymnase de Saint-Just-Chaleyssin (Isère), le 9\\xa0mars\\xa02023. SÉBASTIEN ERÔME POUR «\\xa0M LE MAGAZINE DU MONDE\\xa0»\\r\\n«\\xa0Sautille, Genevi… [+2622 chars]\n"
     ]
    }
   ],
   "source": [
    "# Articles have the following attributes: id, author, title, description, \n",
    "# url, urlToImage, publishedAt, content\n",
    "\n",
    "# We can access details about an article as follows:\n",
    "\n",
    "print(data[1].attrib['id'])\n",
    "print(data[1].find('source').find('id').text)\n",
    "print(data[1].find('source').find('name').text)\n",
    "print(data[1].find('author').text)\n",
    "print(data[1].find('title').text)\n",
    "print(data[1].find('description').text)\n",
    "print(data[1].find('url').text)\n",
    "print(data[1].find('publishedAt').text)\n",
    "print(data[1].find('content').text)"
   ]
  },
  {
   "cell_type": "markdown",
   "id": "hawaiian-frontier",
   "metadata": {},
   "source": [
    "# 2. Data quality and cleaning (4 points)\n",
    "\n",
    "One of the three possible dimensions in the group assignment is improving the quality of your data. The dataset we provide is relatively clean, so another way to improve the quality is to extend it. \n",
    "\n",
    "In order to practice with data quality, write a script to add the country of origin of the news article. You can consider using the keywords in the `used_keywords`, the tld of the urls, or some other dimension of the data."
   ]
  },
  {
   "cell_type": "code",
   "execution_count": 55,
   "id": "f862af94",
   "metadata": {},
   "outputs": [
    {
     "name": "stdout",
     "output_type": "stream",
     "text": [
      "1000\n",
      "959\n"
     ]
    }
   ],
   "source": [
    "#deletes the articles that has Null values or empty string in some of its fields that we will use later for out data manipulation\n",
    "\n",
    "def is_element_valid(elem):\n",
    "    fields = [\n",
    "        #elem.attrib.get('id'),\n",
    "        #elem.find('author').text,\n",
    "        elem.find('title').text,\n",
    "        elem.find('description').text,\n",
    "        elem.find('url').text,\n",
    "        #elem.find('publishedAt').text,\n",
    "        elem.find('content').text\n",
    "    ]\n",
    "    return all(field is not None and field.strip() != \"\" for field in fields)\n",
    "\n",
    "print(len(data))\n",
    "\n",
    "# Filtra gli elementi validi\n",
    "data = [elem for elem in data if is_element_valid(elem)]\n",
    "\n",
    "\n",
    "print(len(data))\n"
   ]
  },
  {
   "cell_type": "code",
   "execution_count": 56,
   "id": "upper-religious",
   "metadata": {},
   "outputs": [],
   "source": [
    "#We create a dictionary were every domain of the URLs is mapped to its country of origin\n",
    "\n",
    "dict_suffix = {\n",
    "    'fr':\t'France',\n",
    "    'it':\t'Italy',\n",
    "    'de':\t'Germany',\n",
    "    'nl':\t'Netherlands',\n",
    "    'br':\t'Brazil',\n",
    "    'pt':\t'Portugal',\n",
    "    'us':\t'USA',\n",
    "    'ar':\t'Argentina',\n",
    "    'uy':\t'Uruguay',\n",
    "    'es':\t'Spain',\n",
    "    'ch':   'Switzerland',\n",
    "    'at':   'Austria',\n",
    "    'cz':   'Czech Republic',\n",
    "    'uk':   'Great Britain',\n",
    "    'tr':   'Turkey',\n",
    "    'be':   'Belgium',\n",
    "    'eu':\t'European Union',\n",
    "    'org':\t'World',\n",
    "    'com' : 'World',\n",
    "    'net' : 'World'\n",
    "}"
   ]
  },
  {
   "cell_type": "code",
   "execution_count": 57,
   "id": "concerned-ivory",
   "metadata": {},
   "outputs": [],
   "source": [
    "#In order to classify the article based on its origin we look at the URL of the article\n",
    "#we extract the URL and we look at the domain of the URL\n",
    "#we use the dict we created before in order to map every domain to a specific country\n",
    "#some domains (for example .com, .org, .net, ...) are classified as 'world' articles\n",
    "\n",
    "from urllib.parse import urlparse\n",
    "\n",
    "# Il tuo URL\n",
    "for i in range(len(data)):\n",
    "    url = data[i].find('url').text\n",
    "\n",
    "    parsed_url = urlparse(url)\n",
    "\n",
    "    domain = parsed_url.netloc  # esempio: 'www.lemonde.fr'\n",
    "\n",
    "    domain_suffix = domain.split('.')[-1]  # 'fr'\n",
    "    \n",
    "    data[i].attrib['Origin'] = dict_suffix[domain_suffix]\n",
    "\n",
    "    #print(data[i].attrib['Origin'] )\n",
    "    \n",
    "        \n"
   ]
  },
  {
   "cell_type": "markdown",
   "id": "upper-fairy",
   "metadata": {},
   "source": [
    "# 3. Data exchange (4 points)\n",
    "\n",
    "Another dimension of the group assignment is data exchange. In order to practice this, we want you to figure out which individual or football team is the subject of the data, and which country this club is located in. Given the time constraint for this assignment, your analysis does not have to be complete, but please make a good effort to extract some of this data.\n",
    "\n",
    "You might want to find another data source to help you with this. Consider using wikidata, dbpedia or a more domain-specific resource.\n"
   ]
  },
  {
   "cell_type": "code",
   "execution_count": 58,
   "id": "4bbc9058",
   "metadata": {},
   "outputs": [
    {
     "name": "stdout",
     "output_type": "stream",
     "text": [
      "{'1. FC Köln': 'Germany', '1. FC Union Berlin': 'Germany', '12 de Octubre de Itaugua': 'Paraguay', '1º de Agosto': 'Angola', '1º de Maio': 'Angola', '2 de Mayo': 'Paraguay', '3 de Febrero': 'Paraguay', 'AaB': 'Denmark', 'Aalesund': 'Norway', 'Aarau': 'Switzerland', 'Aberdeen': 'Scotland', 'Aberystwyth': 'Wales', 'Abha Club': 'Saudi Arabia', 'Abia Warriors': 'Nigeria', 'ABM Galaxy FC': 'Vanuatu', 'Aboomoslem': 'Iran', 'AC Horsens': 'Denmark', 'AC Kuya Sport': 'Congo DR', 'AC LALA FC': 'Venezuela', 'AC Mamahira': 'Mali', 'AC Milan': 'Italy', 'AC Oulu': 'Finland', 'AC Rangers': 'Denmark', 'Academia Cantolao': 'Peru', 'Academia F. Amadou Diallo': 'Ivory Coast', 'Academia Puerto Cabello': 'Venezuela', 'Academia Quintana': 'Puerto Rico', 'Académica': 'Portugal', 'Académica do Soyo': 'Angola', 'Académica Lobito': 'Angola', 'Accra Great Olympics': 'Ghana', 'Accra Lions FC': 'Ghana', 'ACS FC Academica Clinceni': 'Romania', 'ACS Poli Timişoara': 'Romania', 'AD Grecia FC': 'Costa Rica', 'AD Guanacasteca': 'Costa Rica', 'AD Municipal Liberia': 'Costa Rica', 'AD Unión Magdalena': 'Colombia', 'Adamawa United': 'Nigeria', 'Adana Demirspor': 'Turkey', 'Adanaspor': 'Turkey', 'Adelaide United': 'Australia', 'Admira Wacker Mödling': 'Austria', 'ADO Den Haag': 'Netherlands', 'Aduana Stars': 'Ghana', 'Adzopé': 'Ivory Coast', 'AE Kouklion': 'Cyprus', 'AEK': 'Greece', 'AEK Larnaca': 'Cyprus', 'AEL Kalloni FC': 'Greece', 'AEL Limassol': 'Cyprus', 'AEZ Zakakiou': 'Cyprus', 'Afan Lido': 'Wales', 'AFC Bournemouth': 'England', 'AFC Eskilstuna': 'Sweden', 'AFC Herrmannstadt Sibiu': 'Romania', 'AFC UTA Arad': 'Romania', 'Africa Sports National': 'Ivory Coast', 'AGF': 'Denmark', 'Águila': 'El Salvador', 'Águilas': 'Costa Rica', 'Águilas Doradas': 'Colombia', 'Aigle Royal': 'Cameroon', 'AIK': 'Sweden', 'Aïn Fakroun': 'Algeria', 'Air Force Central FC': 'Thailand', 'Air India': 'India', 'Airbus UK Broughton FC': 'Wales', 'Aizawl': 'India', 'Ajaccio': 'France', 'Ajax': 'Congo DR', 'Ajax Amsterdam': 'Netherlands', 'Ajax Cape Town': 'South Africa', 'Ajax Lasnamäe': 'Estonia', 'Ajman Club': 'United Arab Emirates', 'Akademija Pandev': 'Macedonia', 'Akademik Sofia': 'Bulgaria', 'Akhisar Belediye': 'Turkey', 'Akokana': 'Niger', 'Aktobe': 'Kazakhstan', 'Akwa Starlets': 'Nigeria', 'Akwa United': 'Nigeria', 'Akzhaiyk Uralsk': 'Kazakhstan', 'AL Adalh FC': 'Saudi Arabia', 'AL Ahed': 'Lebanon', 'Al Ahli': 'Qatar', 'Al Ahli Khartoum': 'Sudan', 'Al Ahli SC Amman': 'Jordan', 'Al Ahli Tripoli': 'Libya', 'Al Ahli Wad Medani': 'Sudan', 'Al Ahly': 'Egypt', 'Al Ahly Benghazi': 'Libya', 'Al Ahly Merowe': 'Sudan', 'Al Ahly Shendi': 'Sudan', 'Al Akhaa Al Ahli': 'Lebanon', 'Al Amir': 'Sudan', 'Al Ansar FC (Medina)': 'Saudi Arabia', 'AL Ansar SC': 'Lebanon', 'Al Asalah': 'Jordan', 'Al Batin': 'Saudi Arabia', 'Al Egtmaaey Tripoli': 'Lebanon', 'AL Ettifaq FC': 'Saudi Arabia', 'Al Fallah Atbara FC': 'Sudan', 'Al Fateh FC': 'Saudi Arabia', 'Al Feiha': 'Saudi Arabia', 'Al Fujairah': 'United Arab Emirates', 'AL Gharafa': 'Qatar', 'AL Hazem FC': 'Saudi Arabia', 'Al Hilal': 'Saudi Arabia', 'Al Hilal Kadougli': 'Sudan', 'Al Hilal Omdurman': 'Sudan', 'Al Hilal Port Sudan': 'Sudan', 'Al Islah Bourg Shamaly': 'Lebanon', 'Al Ittihad': 'Sudan', 'Al Ittihad Kalba': 'United Arab Emirates', 'Al Khartoum SC': 'Sudan', 'Al Masry': 'Egypt', 'Al Mesaimeer': 'Qatar', 'Al Mokawloon Al Arab': 'Egypt', 'Al Mourada': 'Sudan', 'Al Nahdha Dammam': 'Saudi Arabia', 'Al Nasr': 'United Arab Emirates', 'Al Nasr FC': 'Egypt', 'Al Nassr': 'Saudi Arabia', 'AL Qadisiyah FC': 'Saudi Arabia', 'Al Qadsia': 'Kuwait', 'Al Quwa Al Jawiya': 'Iraq', 'Al Rabta Kosti': 'Sudan', 'Al Raed': 'Saudi Arabia', 'AL Safa': 'Lebanon', 'Al Shabab': 'United Arab Emirates', 'Al Shabab Al Arabi Beirut': 'Lebanon', 'Al Sharkeyah': 'Egypt', 'Al Shimali': 'Sudan', 'Al Shoalah': 'Saudi Arabia', 'Al Shorta Al Qadarif': 'Sudan', 'AL Shorta SC': 'Iraq', 'Al Taawon': 'Saudi Arabia', 'AL Tadamon Sour': 'Lebanon', 'Al Urooba Club': 'United Arab Emirates', 'Al Wahda': 'Saudi Arabia', 'Al Wasl': 'United Arab Emirates', 'Al-Ahli': 'Saudi Arabia', 'Al-Ahli Atbara': 'Sudan', 'Al-Ain FC': 'Saudi Arabia', 'Al-Arabi Doha': 'Qatar', \"Al-Baqa'a SC\": 'Jordan', 'Al-Bourj FC': 'Lebanon', 'Al-Dhafra': 'United Arab Emirates', 'Al-Duhail SC': 'Qatar', 'Al-Faisaly FC Harmah': 'Saudi Arabia', 'Al-Faisaly SC Amman': 'Jordan', 'Al-Hikma': 'Lebanon', 'Al-Hussein SC Irbid': 'Jordan', 'Al-Ittihad': 'Libya', 'Al-Ittihad Al-Sakandary': 'Egypt', 'Al-Jalil': 'Jordan', 'Al-Jazeera Amman': 'Jordan', 'Al-Jazira': 'United Arab Emirates', 'Al-Khaleej Club': 'Saudi Arabia', 'Al-Kharitiyat': 'Qatar', 'Al-Khor': 'Qatar', 'Al-Markhiya Sports Club': 'Qatar', 'Al-Mergheni': 'Sudan', 'Al-Merreikh': 'Sudan', 'Al-Nil': 'Sudan', 'Al-Orobah FC': 'Saudi Arabia', 'Al-Ramtha SC': 'Jordan', 'Al-Rayyan': 'Qatar', 'Al-Sadd': 'Qatar', 'Al-Sailiya': 'Qatar', 'Al-Salt': 'Jordan', 'Al-Sareeh SC': 'Jordan', 'Al-Shaab': 'United Arab Emirates', 'Al-Shahania S.C.': 'Qatar', 'Al-Shamal SC': 'Qatar', 'Al-Tai FC': 'Saudi Arabia', 'Al-Wakra': 'Qatar', 'Al-Wehdat SC': 'Jordan', 'Al-Yarmouk FC': 'Jordan', 'Al-Zawraa SC': 'Iraq', \"Ala'ab Damanhour\": 'Egypt', 'Alacranes del Norte': 'El Salvador', 'Alamal Atbara': 'Sudan', 'Alaniya': 'Russia', 'Alanyaspor': 'Turkey', 'Albion F.C.': 'Uruguay', 'Albirex Niigata': 'Japan', 'Aldosivi': 'Argentina', 'Alianza': 'Panama', 'Alianza Atlético': 'Peru', 'Alianza FC': 'El Salvador', 'Alianza Lima': 'Peru', 'Alianza Petrolera': 'Colombia', 'Alianza Universidad Huanuco': 'Peru', 'Alkali Nassara': 'Niger', 'Alki': 'Cyprus', 'Alki Oroklinis': 'Cyprus', 'All Boys': 'Argentina', 'Almería': 'Spain', 'Alpha United': 'Guyana', 'Altay S.K.': 'Turkey', 'Aluminij': 'Slovenia', 'Aluminium Arak': 'Iran', 'Aluminium Hormozgan': 'Iran', 'Always Ready': 'Bolivia', 'AmaZulu FC': 'South Africa', 'América': 'Mexico', 'América de Cali': 'Colombia', 'América Mineiro': 'Brazil', 'Amicale FC': 'Vanuatu', 'Amidaus Professionals FC': 'Ghana', 'Amiens SC': 'France', \"Amkar Perm'\": 'Russia', 'Anagennisi Deryneia': 'Cyprus', 'Andijon': 'Uzbekistan', 'Angers': 'France', 'Ankaragücü': 'Turkey', 'Ankaran Hrvatini': 'Slovenia', 'Annaba': 'Algeria', 'Anorthosis': 'Cyprus', 'Antigua Guatemala': 'Guatemala', 'AOK Kerkyra': 'Greece', 'Apejes de Mfou': 'Cameroon', 'APEP': 'Cyprus', 'APOEL Nicosia': 'Cyprus', 'Apollon Limassol': 'Cyprus', 'Apollon Smyrnis': 'Greece', 'APOP / Kinyras': 'Cyprus', 'Árabe Unido': 'Panama', 'Aragua FC': 'Venezuela', 'Ararat-Armenia FC': 'Armenia', 'Araz PFK': 'Azerbaijan', 'Arcahaie FC': 'Haiti', 'Ards': 'Northern Ireland', 'Arema': 'Indonesia', 'Argentinos Juniors': 'Argentina', 'Argeș Pitești': 'Romania', 'Aris Limassol': 'Cyprus', 'Aris Thessaloniki FC': 'Greece', 'Arles': 'France', 'Armed Forces': 'Singapore', 'Army United': 'Thailand', 'Arnett Gardens': 'Jamaica', 'Arouca': 'Portugal', 'Arrows': 'India', 'Arsenal': 'England', 'Arsenal de Sarandí': 'Argentina', 'Arsenal Tula': 'Russia', 'Art Municipal Jalapa': 'Nicaragua', \"AS Aïn M'lila\": 'Algeria', 'AS Avenir de Tombouctou': 'Mali', 'AS Bamako': 'Mali', 'AS Eliwidj FC': 'Mali', 'AS Fortuna': 'Cameroon', 'AS Kasserine': 'Tunisia', 'AS Korofina': 'Mali', 'AS Lossi': 'New Caledonia', 'AS Magenta': 'New Caledonia', 'AS Matelots': 'Cameroon', 'AS Nianan': 'Mali', 'AS Nika': 'Congo DR', 'AS Nyuki de Butembo': 'Denmark', 'AS Police': 'Mali', 'AS Puma Generaleňa': 'Costa Rica', 'AS Réal Bamako': 'Mali', 'AS Rejiche': 'Tunisia', 'AS Salé': 'Morocco', 'AS Slimane': 'Tunisia', 'AS Tanda': 'Ivory Coast', 'AS-FAN': 'Niger', 'Asante Kotoko': 'Ghana', 'ASD Spezia Calcio 2008': 'Italy', 'ASEC Mimosas': 'Ivory Coast', 'ASGNN': 'Niger', 'Ashanti Gold FC': 'Ghana', \"ASI D'Abengourou\": 'Ivory Coast', 'ASM Oran': 'Algeria', 'ASO Chlef': 'Algeria', 'Asoc. Dep. y Rec. Jicaral Sercoba': 'Costa Rica', 'Asociación Deportiva Tarma (ADT)': 'Peru', 'Assyriska': 'Sweden', 'Asteras Tripolis': 'Greece', 'Aston Villa': 'England', 'Astra Ploieşti': 'Romania', 'Astres FC de Douala': 'Cameroon', 'Aswan FC': 'Egypt', 'Asyut Petrol': 'Egypt', 'Atalanta': 'Italy', 'Atar Club': 'Mali', 'Atenas': 'Uruguay', 'Atheltic Club Port of Spain': 'Trinidad and Tobago', 'Athletic Bilbao': 'Spain', 'Athlone Town': 'Ireland', 'Atlanta United FC': 'United States', 'Atlante': 'Mexico', 'Atlas': 'Mexico', 'Atlético Balboa': 'El Salvador', 'Atlético Chiriquí': 'Panama', 'Atlético Choloma': 'Honduras', 'Atlético de Kolkata': 'India', 'Atlético do Namibe': 'Angola', 'Atlético El Vigía': 'Venezuela', 'Atlético Goianiense': 'Brazil', 'Atlético Huila': 'Colombia', 'Atlético Madrid': 'Spain', 'Atlético Marte': 'El Salvador', 'Atlético Mineiro': 'Brazil', 'Atlético Nacional': 'Colombia', 'Atletico Petro Luanda': 'Angola', 'Atlético PR': 'Brazil', 'Atlético Rafaela': 'Argentina', 'Atlético San Luis': 'Mexico', 'Atletico Socopo': 'Venezuela', 'Atlético Sport Aviação': 'Angola', 'Atlético Tucumán': 'Argentina', 'Atlético Venezuela': 'Venezuela', 'Atlético Veragüense': 'Panama', 'Atromitos': 'Greece', 'Åtvidaberg': 'Sweden', 'Atyrau': 'Kazakhstan', 'Aucas': 'Ecuador', 'Auckland City': 'New Zealand', 'Audax Italiano La Florida': 'Chile', 'Augsburg': 'Germany', 'Aurora': 'Bolivia', 'Austin FC': 'Uruguay', 'Austria Kärnten': 'Austria', 'Austria Wien': 'Austria', 'Auxerre': 'France', 'Avaí FC': 'Brazil', 'Avenir de La Marsa': 'Tunisia', 'Avion Fc Du Nkam': 'Cameroon', 'Avispa Fukuoka': 'Japan', 'Ayacucho FC': 'Peru', 'Ayia Napa': 'Cyprus', 'AZ Alkmaar': 'Netherlands', 'AZAL PFC Baku': 'Azerbaijan', 'Azam': 'Tanzania', 'Ba': 'Fiji', 'Babeti ya Sika': 'Congo DR', 'Bahia': 'Brazil', 'Bakaridjan de Barouéli': 'Mali', 'Bakı': 'Azerbaijan', 'Bala Town FC': 'Wales', 'Bali United': 'Indonesia', 'Balıkesirspor': 'Turkey', 'Ballinamallard United': 'Northern Ireland', 'Ballymena United': 'Northern Ireland', 'Balmazújváros': 'Hungary', 'Bamboutos': 'Cameroon', 'Banfield': 'Argentina', 'Banga Gargzdai': 'Lithuania', 'Bangkok United': 'Thailand', 'Bangor City': 'Wales', 'Baník Ostrava': 'Czech Republic', 'Baniyas': 'United Arab Emirates', 'Bantous': 'Congo DR', 'Bantu Rovers': 'Zimbabwe', 'Barbican FC': 'Jamaica', 'Barcelona': 'Spain', 'Barcelona SC': 'Ecuador', 'Bari': 'Italy', 'Barito Putera': 'Indonesia', 'Barnechea': 'Chile', 'Baroka FC': 'South Africa', 'Barrio México': 'Costa Rica', 'Barry Town United FC': 'Wales', 'BATE Borisov': 'Belarus', 'Bayamón FC': 'Puerto Rico', 'Bayelsa United': 'Nigeria', 'Bayer Leverkusen': 'Germany', 'Bayern München': 'Germany', 'BBCU FC': 'Thailand', 'Bechem United': 'Ghana', 'Beijing Guoan': 'China PR', 'Beijing Renhe': 'China PR', 'Beira-Mar': 'Portugal', 'Beitar Jerusalem FC': 'Israel', 'Bekaa SC': 'Lebanon', 'Bekescsaba': 'Hungary', 'Bełchatów': 'Poland', 'Belén Siglo XXI': 'Costa Rica', 'Belenenses': 'Portugal', 'Belgrano': 'Argentina', 'Bella Vista': 'Uruguay', 'Bellinzona': 'Switzerland', 'Belshina Bobruisk': 'Belarus', 'Ben Guerdane': 'Tunisia', 'Bendel Insurance': 'Nigeria', 'Benevento': 'Italy', 'Benfica': 'Portugal', 'Benfica Luanda': 'Angola', 'Bengaluru FC': 'India', 'Béni-Khalled': 'Tunisia', 'Berane': 'Montenegro', 'Berekum Arsenal': 'Ghana', 'Berekum Chelsea FC': 'Ghana', 'Beroe': 'Bulgaria', 'Beşiktaş': 'Turkey', 'BFC Daugavpils': 'Latvia', 'BG Pathum United': 'Thailand', 'Bhayangkara FC': 'Indonesia', 'Bibiani Gold Stars F.C.': 'Ghana', 'Bidvest Wits': 'South Africa', 'Binh Duong': 'Vietnam', 'Birmingham City': 'England', 'BK Häcken': 'Sweden', 'Black Leopards': 'South Africa', 'Black Mambas': 'Zimbabwe', 'Black Rhinos': 'Zimbabwe', 'Blackburn Rovers F.C.': 'England', 'Blackpool': 'England', 'Blessing FC': 'Congo DR', 'Bloemfontein Celtic': 'South Africa', 'Blooming': 'Bolivia', 'Bnei Sakhnin': 'Israel', 'Bnei Yehuda Tel Aviv FC': 'Israel', 'Boavista': 'Portugal', 'Boca Juniors': 'Argentina', 'Bochum': 'Germany', 'Bodø / Glimt': 'Norway', 'Bohemian FC': 'Ireland', 'Bohemians 1905': 'Czech Republic', 'Bolívar': 'Bolivia', 'Bologna': 'Italy', 'Bolognesi': 'Peru', 'Bolton Wanderers': 'England', 'Bontang PKT': 'Indonesia', 'Borac Banja Luka': 'Bosnia and Herzegovina', 'Borac Čačak': 'Serbia', 'Bordeaux': 'France', 'Borussia Dortmund': 'Germany', 'Borussia Mönchengladbach': 'Germany', 'Boston River': 'Uruguay', 'Botafogo FC': 'Cameroon', 'Botafogo RJ': 'Brazil', 'Botev Plovdiv': 'Bulgaria', 'Botev Vratsa': 'Bulgaria', 'Botoşani': 'Romania', 'Bouaké FC': 'Ivory Coast', 'Boulogne': 'France', 'Boyacá Chicó FC': 'Colombia', \"Boys' Town\": 'Jamaica', 'Braga': 'Portugal', 'Brasilia': 'Brazil', 'Braşov': 'Romania', 'Bray Wanderers': 'Ireland', 'Brentford FC': 'England', 'Brescia': 'Italy', 'Brest': 'France', 'Brighton & Hove Albion': 'England', 'Brisbane Roar FC': 'Australia', 'Brommapojkarna': 'Sweden', 'Brøndby': 'Denmark', 'Brong Ahafo Stars': 'Ghana', 'Brujas': 'Costa Rica', 'BSK Borča': 'Serbia', 'Bucaspor': 'Turkey', 'Budafoki MTE': 'Hungary', 'Budućnost': 'Montenegro', 'Buffaloes FC': 'Zimbabwe', 'Buildcon': 'Zambia', 'Bukavu Dawa': 'Congo DR', 'Bukola Babes': 'Nigeria', 'Bulawayo Chiefs': 'Zimbabwe', 'Bulawayo City FC': 'Zimbabwe', 'Bunyodkor Tashkent': 'Uzbekistan', 'Buriram United': 'Thailand', 'Burnley': 'England', 'Bursaspor': 'Turkey', \"Busan I'Park\": 'South Korea', 'Buxoro': 'Uzbekistan', 'C.A. Cerro': 'Uruguay', 'C.D. Hermanos Colmenarez': 'Venezuela', 'C.D. Honduras Progreso': 'Honduras', 'C.D. Lunda Sul': 'Angola', 'CA Batna': 'Algeria', 'CA Bizertin': 'Tunisia', 'CA Bordj Bou Arreridj': 'Algeria', 'CA Central Cordoba': 'Argentina', 'CA Palmaflor': 'Bolivia', 'Cabinda': 'Angola', 'Cádiz CF': 'Spain', 'Caen': 'France', 'Caernarfon': 'Wales', 'Caersws': 'Wales', 'Cagliari': 'Italy', 'Caguas Huracán': 'Puerto Rico', 'Caïman Douala': 'Cameroon', 'Caledonia AIA': 'Trinidad and Tobago', 'Cambuur': 'Netherlands', 'Canon Buromeca': 'Congo DR', 'Canon Sportif': 'Cameroon', 'Canterbury United': 'New Zealand', 'Capaco': 'Congo DR', 'Cape Town City FC': 'South Africa', 'CAPS United': 'Zimbabwe', 'Carabobo FC': 'Venezuela', 'Caracas': 'Venezuela', 'Cardiff City': 'England', 'Cardiff Met University': 'Wales', 'Carlos A. Mannucci': 'Peru', 'Carmarthen': 'Wales', 'Carolina Gigantes': 'Puerto Rico', 'Caroní': 'Venezuela', 'Carpi': 'Italy', 'Carrick Rangers': 'Northern Ireland', 'Cartaginés': 'Costa Rica', 'CAS de Sévaré': 'Mali', 'Catania': 'Italy', 'Cavaliers FC': 'Jamaica', 'Cavaly': 'Haiti', 'CD America de Quito': 'Ecuador', 'CD Antofagasta': 'Chile', 'CD Audaz': 'El Salvador', 'CD Chalatenango': 'El Salvador', 'CD das Aves': 'Portugal', 'CD EL Vencedor': 'El Salvador', 'CD FAS': 'El Salvador', 'CD Jaguares': 'Colombia', 'CD Junior Managua': 'Nicaragua', 'CD Ocotal': 'Nicaragua', 'CD Olmedo': 'Ecuador', 'CD Petapa': 'Guatemala', 'CD Platense Municipal': 'El Salvador', 'CD Plaza Amador': 'Panama', 'CD Real de Minas': 'Honduras', 'CD Santa Clara': 'Portugal', 'CD Sonsonate': 'El Salvador', 'CD UT Cajamarca': 'Peru', 'CD Vida': 'Honduras', 'Ceahlăul Piatra': 'Romania', 'Ceará SC': 'Brazil', 'Cefn Druids AFC': 'Wales', 'Čelik Nikšić': 'Montenegro', 'Čelik Zenica': 'Bosnia and Herzegovina', 'Celta Vigo': 'Spain', 'Celtic': 'Scotland', 'Central': 'Trinidad and Tobago', 'Central Coast Mariners FC': 'Australia', 'Central Español': 'Uruguay', 'Central Sport': 'Syria', 'Centre Salif Kéita': 'Mali', 'Centro Ítalo': 'Venezuela', 'Ceramica Cleopatra': 'Egypt', 'Cercle Brugge': 'Belgium', 'Cerezo Osaka': 'Japan', 'Cerrito': 'Uruguay', 'Cerro Largo': 'Uruguay', 'Cerro Porteño': 'Paraguay', 'Cerro Porteño PF': 'Paraguay', 'Cesena': 'Italy', 'České Budějovice': 'Czech Republic', 'CF Montreal': 'Canada', 'CF Pachuca': 'Mexico', 'CF Ungheni': 'Moldova', 'CFR Cluj': 'Romania', 'Chabab Atlas Khénifra': 'Morocco', 'Chabab Rif Al Hoceima': 'Morocco', 'Chacarita Juniors': 'Argentina', 'Chainat FC': 'Thailand', 'Chambishi FC': 'Zambia', 'Changchun Yatai': 'China PR', 'Chapecoense AF': 'Brazil', 'Chapungu United': 'Zimbabwe', 'Charlotte FC': 'Uruguay', 'Chaves': 'Portugal', 'Chelsea FC': 'England', 'Chengdu Blades': 'China PR', 'Chennai City FC': 'India', 'Chennaiyin FC': 'India', 'Chepo FC': 'Panama', 'Cherno More Varna': 'Bulgaria', 'Chernomorets Burgas': 'Bulgaria', 'Chiangmai FC': 'Thailand', 'Chiangrai United': 'Thailand', 'Chicago Fire': 'United States', 'Chicken Inn FC': 'Zimbabwe', 'Chievo Verona': 'Italy', 'Chikhura': 'Georgia', 'Chinandega FC': 'Nicaragua', 'Chippa United': 'South Africa', 'Chirag Kerala': 'India', 'Chiredzi FC': 'Zimbabwe', 'Chivas USA': 'United States', 'Chonburi FC': 'Thailand', 'Chongqing Liangjiang Athletic F.C.': 'China PR', 'Chornomorets Odesa': 'Ukraine', 'Chorrillo': 'Panama', 'Churchill Brothers SC': 'India', 'Cibalia': 'Croatia', 'Cibao': 'Denmark', 'Ciclon': 'Bolivia', 'Cienciano': 'Peru', 'Clan Juvenil': 'Ecuador', 'Clermont Foot': 'France', 'Cliftonville': 'Northern Ireland', 'Club Africain': 'Tunisia', 'Club Atlético Bucaramanga': 'Colombia', 'Club Atlético Grau': 'Peru', 'Club Atletico Pantoja': 'Denmark', 'Club Atlético Platense': 'Argentina', 'Club Atletico Progreso': 'Uruguay', 'Club Atletico Torque': 'Uruguay', 'Club Brugge': 'Belgium', 'Club Deportivo Maldonado': 'Uruguay', 'Club Olympique de Médenine': 'Tunisia', 'Club Omnisports de Korhogo (CIV)': 'Ivory Coast', 'Club Petrolero': 'Bolivia', 'Club Puebla': 'Mexico', 'Club River Plate': 'Paraguay', 'Club Sando': 'Trinidad and Tobago', 'Club Sport Herediano': 'Costa Rica', 'Club Tijuana': 'Mexico', 'CNI': 'Peru', 'CO Bouafle': 'Ivory Coast', 'Coatepeque': 'Guatemala', 'Coban Imperial': 'Guatemala', 'Cobreloa': 'Chile', 'Cobresal': 'Chile', 'Cobresol': 'Peru', 'CODM Meknès': 'Morocco', 'Coleraine': 'Northern Ireland', 'Colo Colo': 'Chile', 'Colombe du Dja et Lobo': 'Cameroon', 'Colón C-3': 'Panama', 'Colón Santa Fe': 'Argentina', 'Colorado Rapids': 'United States', 'Columbus Crew': 'United States', 'Comerciantes Unidos': 'Peru', 'Concordia Chiajna': 'Romania', \"Connah's Quay\": 'Wales', 'Consadole Sapporo': 'Japan', 'Coquimbo Unido': 'Chile', 'Córdoba CF': 'Spain', 'Corinthians': 'Brazil', 'Coritiba': 'Brazil', 'Cork City': 'Ireland', 'Corona Braşov': 'Romania', 'Cortuluá': 'Colombia', 'Cosmos de Bafia': 'Cameroon', 'Costuleni': 'Moldova', 'Coton Sport': 'Cameroon', 'CR Belouizdad': 'Algeria', 'Cracovia Kraków': 'Poland', 'Cranborne Bullets FC': 'Zimbabwe', 'Criciúma': 'Brazil', 'Croatia Sesvete': 'Croatia', 'Crotone': 'Italy', 'Crown FC': 'Nigeria', 'Crucero del Norte': 'Argentina', 'Crusaders': 'Northern Ireland', 'Cruz Azul': 'Mexico', 'Cruzeiro': 'Brazil', 'Crystal Palace': 'England', 'CS Alagoano AL': 'Brazil', 'CS Constantine': 'Algeria', 'CS Deportivo Pereira': 'Colombia', 'CS Fola Esch': 'Luxembourg', 'CS Hammam-Lif': 'Tunisia', 'CS Makiso': 'Congo DR', 'CS Marítimo Madeira': 'Portugal', 'CS Mioveni': 'Romania', 'CS Petrocub': 'Moldova', 'CS Sfaxien': 'Tunisia', 'CS Universitatea Craiova': 'Romania', 'CS Uruguay': 'Costa Rica', 'CSD Comunicaciones': 'Guatemala', 'CSD Municipal': 'Guatemala', 'CSKA Moskva': 'Russia', 'CSMS Iaşi': 'Romania', 'CSyD Carchá': 'Guatemala', 'CSyD Nueva Concepción': 'Guatemala', 'Cúcuta Deportivo': 'Colombia', 'Cuiaba': 'Brazil', 'Čukarički': 'Serbia', 'Cumbayá FC': 'Ecuador', 'Cunupia FC': 'Trinidad and Tobago', 'Curicó Unido': 'Chile', 'Cusco FC': 'Peru', 'Dacia Buiucani': 'Moldova', 'Dacia Chisinau': 'Moldova', 'Daegu FC': 'South Korea', 'Daejeon Citizen': 'South Korea', 'Dainava Alytus': 'Lithuania', 'Dalian Professional FC': 'China PR', 'Dalian Shide': 'China PR', 'Dalkurd FF': 'Sweden', 'Damac FC': 'Saudi Arabia', 'Damash': 'Iran', 'Dan Kassawa': 'Niger', 'Danubio': 'Uruguay', 'Darmstadt': 'Germany', 'Dauphins Noirs': 'Congo DR', 'DC United': 'United States', 'De Graafschap': 'Netherlands', 'Debo Club': 'Mali', 'Debrecen': 'Hungary', 'Dečić': 'Montenegro', 'Defence Force FC': 'Trinidad and Tobago', 'Defensa y Justicia': 'Argentina', 'Defensor La Bocana': 'Peru', 'Defensor Sporting': 'Uruguay', 'Degerfors IF': 'Sweden', 'Delfin SC': 'Ecuador', 'Delhi Dynamos FC': 'India', 'Delta Force FC': 'Nigeria', 'Deltras Sidoarjo': 'Indonesia', 'Dempo SC': 'India', 'Denguélé Sport': 'Ivory Coast', 'Denizlispor': 'Turkey', 'Deportes Iquique': 'Chile', 'Deportes La Serena': 'Chile', 'Deportes Quindío': 'Colombia', 'Deportes Temuco': 'Chile', 'Deportiva Carmelita': 'Costa Rica', 'Deportiva San Carlos': 'Costa Rica', 'Deportivo Achuapa': 'Guatemala', 'Deportivo Alaves': 'Spain', 'Deportivo Anzoátegui': 'Venezuela', 'Deportivo Binacional': 'Peru', 'Deportivo Cali': 'Colombia', 'Deportivo Capiatá': 'Paraguay', 'Deportivo Carapeguá': 'Paraguay', 'Deportivo Chiantla': 'Guatemala', 'Deportivo Cuenca': 'Ecuador', 'Deportivo del Este': 'Panama', 'Deportivo Heredia': 'Guatemala', 'Deportivo La Coruña': 'Spain', 'Deportivo La Guaira FC': 'Venezuela', 'Deportivo Lara': 'Venezuela', 'Deportivo Las Sabanas': 'Nicaragua', 'Deportivo Llacuabamba': 'Peru', 'Deportivo Los Caimanes': 'Peru', 'Deportivo Malacateco': 'Guatemala', 'Deportivo Marquense': 'Guatemala', 'Deportivo Mixco': 'Guatemala', 'Deportivo Municipal': 'Peru', 'Deportivo Pasto': 'Colombia', 'Deportivo Petare': 'Venezuela', 'Deportivo Quevedo': 'Ecuador', 'Deportivo Quito': 'Ecuador', 'Deportivo Sanarate': 'Guatemala', 'Deportivo Santaní': 'Paraguay', 'Deportivo Saprissa': 'Costa Rica', 'Deportivo Savio': 'Honduras', 'Deportivo Táchira': 'Venezuela', 'Deportivo Walter Ferretti': 'Nicaragua', 'Deportivo Xerez': 'Spain', 'Deportivo Zulia': 'Venezuela', 'Derry City': 'Ireland', 'Desportivo Da Huíla': 'Angola', 'Destroyers': 'Bolivia', 'Diables Noirs': 'Congo', 'Diaraf': 'Senegal', 'Dibba Al-Fujairah Club': 'United Arab Emirates', 'Difaâ El Jadida': 'Morocco', 'Differdange 03': 'Luxembourg', 'Dijon': 'France', 'Dila Gori': 'Georgia', 'Dinamo Bender': 'Moldova', 'Dinamo Bucureşti': 'Romania', 'Dinamo Minsk': 'Belarus', 'Dinamo Moskva': 'Russia', 'Dinamo Samarkand': 'Uzbekistan', 'Dinamo Tbilisi': 'Georgia', 'Dinamo Vranje': 'Serbia', 'Dinamo Zagreb': 'Croatia', 'Dinamo-Auto': 'Moldova', 'Diósgyör': 'Hungary', 'Diriangén FC': 'Nicaragua', 'Diyarbakirspor': 'Turkey', 'Djoliba AC': 'Mali', 'Djurgården': 'Sweden', 'Dnepr Mogilev': 'Belarus', 'Dnipro Dnipropetrovsk': 'Ukraine', 'Dolphins FC': 'Nigeria', 'Domant FC': 'Angola', 'Domžale': 'Slovenia', 'Don Bosco SC': 'Congo DR', 'Dongo': 'Zimbabwe', 'Dorados Sinaloa': 'Mexico', 'Douanes Niamey': 'Niger', 'Douglas Warriors': 'Zimbabwe', 'Doxa Dramas': 'Greece', 'Doxa Katokopia': 'Cyprus', 'Dragon': 'Tahiti', 'Dragón': 'El Salvador', 'Dragon de Yaoundé': 'Cameroon', 'Dragons': 'Congo DR', 'Drava': 'Slovenia', 'DRB Tadjenanet': 'Algeria', 'Dreams FC': 'Ghana', 'Drogheda United': 'Ireland', 'DSC Arminia Bielefeld': 'Germany', 'DSK Shivajians': 'India', 'Dubai Club': 'United Arab Emirates', 'Dubnica': 'Slovakia', 'Duguwolofila': 'Mali', 'Dukla Banska Bystrica': 'Slovakia', 'Dukla Praha': 'Czech Republic', 'Dunajska Streda': 'Slovakia', 'Dunaújváros Pálhalma SE': 'Hungary', 'Dunav Ruse': 'Bulgaria', 'Dunbeholden FC': 'Jamaica', 'Dundalk FC': 'Ireland', 'Dundee FC': 'Scotland', 'Dundee United': 'Scotland', 'Dunfermline Athletic': 'Scotland', 'Dungannon Swifts': 'Northern Ireland', 'Dynamo Kyiv': 'Ukraine', 'Dynamos': 'Zimbabwe', 'Džiugas Telšiai': 'Lithuania', 'Eagles': 'Zimbabwe', 'East Bengal Club': 'India', 'Eastern Sports Club': 'Hong Kong', 'Eastern Stars': 'Papua New Guinea', 'Eastern Suburbs': 'New Zealand', 'Ebusua Dwarfs': 'Ghana', 'EC Juventude': 'Brazil', 'Eding Sport FC': 'Cameroon', 'EFYM': 'Ivory Coast', 'Eger': 'Hungary', 'EGS Gafsa': 'Tunisia', 'Eibar': 'Spain', 'Eintracht Braunschweig': 'Germany', 'Eintracht Frankfurt': 'Germany', 'Ekranas': 'Lithuania', 'El Dakhleya': 'Egypt', 'El Dorado': 'Denmark', 'El Entag El Harby': 'Egypt', 'El Geish': 'Egypt', 'El Gounah': 'Egypt', 'El Jaish (Doha)': 'Qatar', 'El Kanemi Warriors': 'Nigeria', 'El Mansura': 'Egypt', 'El Minya': 'Egypt', 'El Nacional': 'Ecuador', 'El Nasr Tadeen': 'Egypt', 'El Nsoor': 'Sudan', 'El Raja': 'Egypt', 'El Tanque Sisley': 'Uruguay', 'El Zamalek': 'Egypt', 'El-Sharkia Lel Dokhan (Eastern Company SC)': 'Egypt', 'Elazığspor': 'Turkey', 'Elche': 'Spain', 'Eleven Wise': 'Ghana', 'Eleven Wonders FC': 'Ghana', 'Elfsborg': 'Sweden', 'Elima': 'Congo DR', 'Elmina Sharks': 'Ghana', 'Emelec': 'Ecuador', 'Emirates Club': 'United Arab Emirates', 'Empoli FC': 'Italy', 'Enosis Paralimni': 'Cyprus', 'ENPPI': 'Egypt', 'Entente Sportive du Bafing': 'Ivory Coast', 'Enugu Rangers': 'Nigeria', 'Envigado': 'Colombia', 'Enyimba': 'Nigeria', 'EO Sidi Bouzid': 'Tunisia', 'Erakor Golden Star': 'Vanuatu', 'Ergotelis': 'Greece', 'Ermis Aradippou': 'Cyprus', 'Erzurum BB': 'Turkey', 'ES Bingerville': 'Ivory Coast', 'ES Sétif': 'Algeria', 'Esan United': 'Thailand', 'Esbjerg fB': 'Denmark', 'Eskişehirspor': 'Turkey', 'Esperance de Tunis': 'Tunisia', 'Espoir': 'Niger', 'ESPOLI': 'Ecuador', 'Esteghlal': 'Iran', 'Esteghlal Ahvaz': 'Iran', 'Esteghlal Khuzestan FC': 'Iran', 'Estoril': 'Portugal', 'Estudiantes de Caracas': 'Venezuela', 'Estudiantes de la Plata (ARG)': 'Argentina', 'Estudiantes de Mérida': 'Venezuela', 'Estudiantes Tecos': 'Mexico', 'Etar': 'Bulgaria', 'Ethnikos Achnas': 'Cyprus', 'Etoile du Kivu': 'Congo DR', 'Etoile du Sahel': 'Tunisia', 'Etoile Metlaoui': 'Tunisia', 'Eupen': 'Belgium', 'Everton CD': 'Chile', 'Everton FC': 'England', 'Evian TG': 'France', 'Excelsior': 'Netherlands', 'F91 Dudelange': 'Luxembourg', 'FA Šiauliai': 'Lithuania', 'Fajardo': 'Puerto Rico', 'Fajr Sepasi': 'Iran', 'Falkenbergs FF': 'Sweden', 'Falkirk': 'Scotland', 'FAR Rabat': 'Morocco', 'Farul Constanța': 'Romania', 'Fatih Karagümrük': 'Turkey', 'Fauve Azur Elite FC': 'Cameroon', 'FB Gulbene': 'Latvia', 'FBC Melgar': 'Peru', 'FC Academia Chisinau': 'Moldova', 'FC Alashkert': 'Armenia', 'FC Anzhi Makhachkala': 'Russia', 'FC Arda Kardzhali': 'Bulgaria', 'FC Arsenal Dzerzhinsk': 'Belarus', 'FC Arsenal Kiev': 'Ukraine', 'FC Ashdod': 'Israel', 'FC Basel': 'Switzerland', 'FC Bravos DO Maquis': 'Angola', 'FC Brest': 'Belarus', 'FC Carlos Stein': 'Peru', 'FC Chindia Târgovişte': 'Romania', 'FC Cincinnati': 'United States', 'FC Codru Lozova': 'Moldova', 'FC CSKA 1948 Sofia': 'Bulgaria', 'FC Dallas': 'United States', 'FC Daugava': 'Latvia', 'FC Dinamo Batumi': 'Georgia', 'FC Dnyapro Mogilev': 'Belarus', 'FC Dordrecht': 'Netherlands', 'FC Dunărea Călăraşi': 'Romania', 'FC Edmonton': 'Canada', 'FC Emmen': 'Netherlands', 'FC Energetik-BGU Minsk': 'Belarus', 'FC Famalicão': 'Portugal', 'FC Fastav Zlin': 'Czech Republic', 'FC Floreşti': 'Moldova', 'FC Gagra': 'Georgia', 'FC Goa': 'India', 'FC Groningen': 'Netherlands', 'FC Guria Lanchkhuti': 'Georgia', 'FC Helsingør': 'Denmark', 'FC Infonet Tallinn': 'Estonia', 'FC Inter Turku (FIN)': 'Finland', 'FC Juárez': 'Mexico', 'FC Jurmala': 'Latvia', 'FC Kapaz': 'Azerbaijan', 'FC Kolkheti-1913 Poti': 'Georgia', 'FC Kolos Kovalivka': 'Ukraine', 'FC Krasnodar': 'Russia', 'FC KTP': 'Finland', 'FC Kuressaare': 'Estonia', 'FC Lahti': 'Finland', 'FC Lubumbashi sport': 'Congo DR', 'FC Luch Minsk': 'Belarus', 'FC Lviv': 'Ukraine', \"FC Ma'an\": 'Jordan', 'FC Maktaaral': 'Kazakhstan', 'FC Masr': 'Egypt', 'FC Merani Tbilisi': 'Georgia', 'FC Midtjylland': 'Denmark', 'FC Milsami Orhei': 'Moldova', 'FC Minaj': 'Ukraine', 'FC Minsk': 'Belarus', 'FC MK': 'Congo DR', 'FC Nizhny Novgorod': 'Russia', 'FC Orenburg': 'Russia', 'FC Pasching': 'Austria', 'FC Platinum': 'Zimbabwe', 'FC Porto': 'Portugal', 'FC Pune City': 'India', 'FC Rapid Ghidighici': 'Moldova', 'FC Renaissance du Congo': 'Denmark', 'FC Ruh Brest': 'Belarus', 'FC Rustavi': 'Georgia', 'FC Samgurali Tskhaltubo': 'Georgia', 'FC Samtredia': 'Georgia', 'FC Saxan': 'Moldova', 'FC Seoul': 'South Korea', 'FC Sheriff': 'Moldova', 'FC Shukura Kobuleti': 'Georgia', 'FC Simba': 'Denmark', 'FC Sioni Bolnisi': 'Georgia', 'FC Skonto Riga': 'Latvia', 'FC Smorgon': 'Belarus', 'FC Spicul Chișcăreni': 'Moldova', 'FC St. Gallen 1879': 'Switzerland', 'FC Struga Trim-Lum': 'Nigeria', 'FC Stumbras': 'Lithuania', 'FC Telavi': 'Georgia', 'FC Tokyo': 'Japan', 'FC Torpedo Minsk': 'Belarus', 'FC Torpedo Moscow': 'Russia', 'FC Tsarsko Selo Sofia 2015': 'Bulgaria', 'FC Tskhinvali': 'Georgia', 'FC Twente': 'Netherlands', 'FC U Craiova 1948': 'Romania', 'FC Ufa': 'Russia', 'FC Ural': 'Russia', 'FC Utrecht': 'Netherlands', 'FC Vaduz': 'Switzerland', 'FC Vaslui': 'Romania', 'FC Veris': 'Moldova', 'FC Vizela': 'Portugal', 'FC Voluntari': 'Romania', 'FC Wacker Innsbruck': 'Austria', 'FC Zbrojovka Brno': 'Czech Republic', 'FC Zugdidi': 'Georgia', 'FCI Levadia Tallinn': 'Estonia', 'Feirense': 'Portugal', 'Fenerbahçe': 'Turkey', 'Fénix': 'Uruguay', 'Ferencváros': 'Hungary', 'Ferroviário da Beira': 'Mozambique', 'Ferroviário Do Huambo': 'Angola', 'Feutcheu FC': 'Cameroon', 'Feyenoord': 'Netherlands', 'FF Jaro': 'Finland', 'FH Hafnarfjordur': 'Iceland', 'Figueirense': 'Brazil', 'Finn Harps': 'Ireland', 'Fiorentina': 'Italy', 'FK AGMK': 'Uzbekistan', 'FK Akhmat Grozny': 'Russia', 'FK Aksu': 'Kazakhstan', 'FK Arys': 'Kazakhstan', 'FK Atlantas': 'Lithuania', 'FK Auda': 'Latvia', 'FK Bačka Palanka': 'Serbia', 'FK Belasica Strumica': 'Macedonia', 'FK Bokelj': 'Montenegro', 'FK Borec Veles': 'Nigeria', 'FK Bregalnica Stip': 'Macedonia', 'FK Desna Chernihiv': 'Ukraine', 'FK Donji Srem': 'Serbia', 'FK Drina Zvornik': 'Bosnia and Herzegovina', 'FK Gorno Lisice': 'Macedonia', 'FK Gorodeya': 'Belarus', 'FK Gostivar': 'Macedonia', 'FK Guliston': 'Uzbekistan', 'FK Haugesund': 'Norway', 'FK Horizont Turnovo': 'Macedonia', 'FK Inđija': 'Serbia', \"FK Inhulets' Petrove\": 'Ukraine', 'FK Iskra': 'Montenegro', 'FK Istiqlol Dushanbe': 'Tajikistan', 'FK Jelgava': 'Latvia', 'FK Jerv': 'Norway', 'FK Jezero Plav': 'Montenegro', 'FK Kaspiy Aktau': 'Kazakhstan', 'FK Kauno Zalgiris': 'Lithuania', 'FK Kolubara': 'Serbia', 'FK Kom Podgorica': 'Montenegro', 'FK Krupa': 'Bosnia and Herzegovina', 'FK Leotar': 'Bosnia and Herzegovina', 'FK Liepājas Metalurgs': 'Latvia', \"FK Mariupol Illichivets'\": 'Ukraine', 'FK Metalac': 'Serbia', 'Fk Metalurg Skopje': 'Macedonia', 'FK Metta': 'Latvia', 'FK Mladost Doboj Kakanj': 'Bosnia and Herzegovina', 'FK Mladost Lučani': 'Serbia', 'FK Olympic Tashkent': 'Uzbekistan', 'FK Palanga': 'Lithuania', 'FK Panevėžys': 'Lithuania', 'FK Pardubice': 'Czech Republic', 'FK Podgorica': 'Montenegro', 'FK Pohronie': 'Slovakia', 'FK Proleter Novi Sad': 'Serbia', 'FK Radnik Surdulica': 'Serbia', 'FK Red Star Belgrade': 'Serbia', 'FK Riteriai': 'Lithuania', 'FK Rostov': 'Russia', 'FK Rotor Volgograd': 'Russia', 'FK Sarajevo': 'Bosnia and Herzegovina', 'FK Senica': 'Slovakia', 'FK Septemvri Sofia': 'Bulgaria', 'FK Šilas': 'Lithuania', 'FK Sileks': 'Macedonia', 'FK Skopje': 'Macedonia', 'FK Slutsk': 'Belarus', 'FK Spartak Subotica': 'Serbia', 'FK Spartaks': 'Latvia', 'FK Sputnik Rechytsa': 'Belarus', 'FK Tambov': 'Russia', 'FK Tauras Taurage': 'Lithuania', 'FK Teteks': 'Macedonia', 'FK Tosno': 'Russia', 'FK Tukums 2000': 'Latvia', 'FK Turan': 'Uzbekistan', 'FK Tuzla City': 'Bosnia and Herzegovina', 'FK Utenis Utena': 'Lithuania', 'FK Vitebsk': 'Belarus', 'FK Zemun': 'Serbia', 'FK Zirka Kirovohrad': 'Ukraine', 'FK Zlatibor Čajetina': 'Serbia', 'FK Zvijezda 09': 'Bosnia and Herzegovina', 'FKS Stal Mielec': 'Poland', 'Flame Lilly': 'Zimbabwe', 'Flamengo': 'Brazil', 'Flint Town United': 'Wales', 'Flora Tallinn': 'Estonia', 'Fluminense FC': 'Brazil', 'Foolad Khuzestan': 'Iran', 'Forest Rangers': 'Zambia', 'Forge FC': 'Canada', 'Fortaleza': 'Colombia', 'Fortuna Düsseldorf': 'Germany', 'Fortuna Sittard': 'Netherlands', 'Fovu de Baham': 'Cameroon', 'FOX Villa FC': 'Nicaragua', 'Fredrikstad': 'Norway', 'Free State Stars': 'South Africa', 'Freiburg': 'Germany', 'Frosinone': 'Italy', 'Fuerza Amarilla SC': 'Ecuador', 'Fulham': 'England', 'FUS Rabat': 'Morocco', 'Future FC': 'Egypt', 'Gabès': 'Tunisia', 'Gaborone United': 'Botswana', 'Gagauziya': 'Moldova', 'Gahar Zagros': 'Iran', 'GAIS': 'Sweden', 'Gaitcha FCN': 'New Caledonia', 'Galatasaray': 'Turkey', 'Galway United FC': 'Ireland', 'Gamba Osaka': 'Japan', 'Gangwon FC': 'South Korea', 'Gateway FC': 'Nigeria', 'Gaz Metan Mediaş': 'Romania', 'Gaziantepspor': 'Turkey', 'Gazişehir Gaziantep FK': 'Turkey', 'GD Baixa de Kassanje': 'Angola', 'Gefle': 'Sweden', 'Gençlerbirligi': 'Turkey', 'General Caballero': 'Paraguay', 'General Caballero JLM': 'Paraguay', 'General Díaz': 'Paraguay', 'Genoa': 'Italy', 'Gent': 'Belgium', 'Germinal Beerschot': 'Belgium', 'Getafe': 'Spain', 'GFC Ajaccio': 'France', 'GFK Tikvesh': 'Nigeria', 'Ghazl El Mehalla': 'Egypt', 'GIF Sundsvall': 'Sweden', 'Gigira Laitepo': 'Papua New Guinea', 'Gil Vicente FC': 'Portugal', 'Gimcheon Sangmu FC': 'South Korea', 'Gimnasia y Esgrima La Plata': 'Argentina', 'Giresunspor': 'Turkey', 'Girona': 'Spain', 'Giwa FC': 'Nigeria', 'Glenavon': 'Northern Ireland', 'Glentoran': 'Northern Ireland', 'Gloria Bistrita': 'Romania', 'Go Ahead Eagles': 'Netherlands', 'Go Round': 'Nigeria', 'Godoy Cruz Antonio Tomba': 'Argentina', 'Goiás': 'Brazil', 'Gokulam Kerala Fc': 'India', 'GOL Gohar Sirjan FC': 'Iran', 'Gold Coast United': 'Australia', 'Gombe United': 'Nigeria', 'Gomel': 'Belarus', 'Gorica': 'Slovenia', 'Gornik Leczna': 'Poland', 'Gornik Zabrze': 'Poland', 'GOŠK Gabela': 'Bosnia and Herzegovina', 'Gostaresh Foolad': 'Iran', 'Göztepe AŞ': 'Turkey', 'Gradina Srebrenik': 'Bosnia and Herzegovina', 'Gran Valencia FC': 'Venezuela', 'Granada': 'Spain', 'Granit': 'Belarus', 'Granit Mikashevichi': 'Belarus', 'Grasshopper Club Zürich': 'Switzerland', 'Grbalj Radanovici': 'Montenegro', 'Green Buffaloes': 'Zambia', 'Green Eagles': 'Zambia', 'Grêmio': 'Brazil', 'Grêmio Prudente': 'Brazil', 'Grenoble': 'France', 'Gresik United FC': 'Indonesia', 'Greuther Fürth': 'Germany', 'Grödig': 'Austria', 'Grombalia Sports': 'Tunisia', 'Guabirá': 'Bolivia', 'Guadalajara': 'Mexico', 'Guadalupe FC': 'Costa Rica', 'Guaireña FC': 'Paraguay', 'Gualaceo SC': 'Ecuador', 'Guangzhou City F.C.': 'China PR', 'Guangzhou F.C.': 'China PR', 'Guaraní': 'Paraguay', 'Guarani FC': 'Brazil', 'Guastatoya': 'Guatemala', 'Guaynabo Fluminense': 'Puerto Rico', 'Guingamp': 'France', 'Guizhou Hengfeng': 'China PR', 'Gunners': 'Zimbabwe', 'Gwangju FC': 'South Korea', 'Gyeongnam FC': 'South Korea', 'Gyirmót SE': 'Hungary', 'Györi ETO': 'Hungary', 'H&H Export Sébaco FC': 'Nicaragua', 'Ha Noi TT': 'Vietnam', 'Hajduk Kula': 'Serbia', 'Hajduk Split': 'Croatia', 'Hajer FC Al-Hasa': 'Saudi Arabia', 'Haka': 'Finland', 'Halcones FC': 'Guatemala', 'Halmstads BK': 'Sweden', 'Hamam Sousse': 'Tunisia', 'Hamarkameratene': 'Norway', 'Hamburger SV': 'Germany', 'Hamilton Academical': 'Scotland', 'Hamilton Wanderers Afc': 'New Zealand', 'Hammarby IF': 'Sweden', 'Hangzhou Greentown': 'China PR', 'Hannover 96': 'Germany', 'Hapoel Ashkelon': 'Israel', \"Hapoel Be'er Sheva\": 'Israel', 'Hapoel Hadera': 'Israel', 'Hapoel Haifa': 'Israel', 'Hapoel Ironi Akko': 'Israel', 'Hapoel Jerusalem': 'Israel', 'Hapoel Kfar Saba': 'Israel', 'Hapoel Nof HaGalil': 'Israel', 'Hapoel Petah Tikva FC': 'Israel', \"Hapoel Ra'anana\": 'Israel', 'Hapoel Ramat Gan': 'Israel', 'Hapoel Rishon LeZion': 'Israel', 'Hapoel Tel Aviv': 'Israel', 'Harare City': 'Zimbabwe', 'Haras El-Hodood SC': 'Egypt', 'Harbin Yiteng': 'China PR', 'Harbour View': 'Jamaica', 'Hardbody': 'Zimbabwe', 'Hasaacas': 'Ghana', 'Haskovo 2009': 'Bulgaria', 'Hassania Agadir': 'Morocco', 'Hatayspor Kulübü': 'Turkey', 'Hatta': 'United Arab Emirates', 'Havadar S.C.': 'Iran', 'Haverfordwest County': 'Wales', \"Hawke's Bay United\": 'New Zealand', 'Hay Al Arab': 'Sudan', 'Hay Al Wadi SC': 'Sudan', 'HB Chelghoum Laïd': 'Algeria', 'HB Køge': 'Denmark', 'Heart of Lions': 'Ghana', 'Heart of Midlothian': 'Scotland', 'Heartland FC': 'Nigeria', 'Hearts of Oak': 'Ghana', 'Hebei F.C.': 'China PR', 'Hegelmann Litauen Kaunas': 'Lithuania', 'Hekari United': 'Papua New Guinea', 'Hellas Verona': 'Italy', 'Helsingborgs IF': 'Sweden', 'Henan Songshan Longmen F.C.': 'China PR', 'Henderson Eels': 'Solomon Islands', 'Heracles': 'Netherlands', 'Hércules': 'Spain', 'Herentals FC': 'Zimbabwe', 'Herrera FC': 'Panama', 'Hertha BSC': 'Germany', 'Hibernian': 'Scotland', 'Hienghène Sport': 'New Caledonia', 'HIFK': 'Finland', 'Highlanders': 'Zimbabwe', 'Highlands Park': 'South Africa', 'Highway': 'Zimbabwe', 'Hilal Al-Obayed': 'Sudan', 'Hilal El-Fasher': 'Sudan', 'Hindustan Aero': 'India', 'Hiré': 'Ivory Coast', 'Hispano': 'Honduras', 'HJK Helsinki': 'Finland', 'HNK Gorica': 'Croatia', 'Hobro': 'Denmark', 'Hoffenheim': 'Germany', 'Hønefoss': 'Norway', 'Honka': 'Finland', 'Honvéd': 'Hungary', 'Horoya AC': 'Guinea', 'Houston Dynamo': 'United States', 'Hoverla Uzhhorod': 'Ukraine', 'How Mine': 'Zimbabwe', 'Hradec Králové': 'Czech Republic', 'Hrvatski Dragovoljac': 'Croatia', 'HŠK Posušje': 'Bosnia and Herzegovina', 'Huachipato': 'Chile', 'Huddersfield Town': 'England', 'Hull City': 'England', 'Humble Lions': 'Jamaica', 'Huracán': 'Argentina', 'Hwange': 'Zimbabwe', 'Ibanda Sport': 'Congo DR', 'Ifeanyi Ubah United': 'Nigeria', 'IFK Göteborg': 'Sweden', 'IFK Mariehamn': 'Finland', 'IFK Norrköping': 'Sweden', 'IFK Värnamo': 'Sweden', 'Ikorodu United': 'Nigeria', 'Ilukstes NSS': 'Latvia', 'Ilves': 'Finland', 'Imbabura': 'Ecuador', 'Incheon United': 'South Korea', 'Indeni FC': 'Zambia', 'Independiente': 'Argentina', 'Independiente de La Chorrera': 'Panama', 'Independiente FBC (Campo Grande)': 'Paraguay', 'Independiente FC': 'El Salvador', 'Independiente Medellín': 'Colombia', 'Independiente Petrolero': 'Bolivia', 'Indios': 'Mexico', 'Ingolstadt': 'Germany', 'Institute FC': 'Northern Ireland', 'Inter Allies FC': 'Ghana', 'Inter Miami CF': 'United States', 'Inter Milan': 'Italy', 'Interblock': 'Slovenia', 'Interclube de Angola': 'Angola', 'Internacional': 'Brazil', 'Internaţional Curtea de Argeş': 'Romania', 'Inverness CT': 'Scotland', 'Ionikos': 'Greece', 'Iraklis': 'Greece', 'Ironi Kiryat Schmona': 'Israel', 'Ironi Ramat HaSharon': 'Israel', 'Irtysh Pavlodar': 'Kazakhstan', 'Isidro Metapán': 'El Salvador', 'Iskra-Stal': 'Moldova', 'Isloch': 'Belarus', 'Ismaily SC': 'Egypt', 'Issia Wazi': 'Ivory Coast', 'İstanbul Başakşehir': 'Turkey', 'Ittihad Al-Ramtha': 'Jordan', 'Ittihad El-Shorta': 'Egypt', 'Ittihad Tanger': 'Morocco', 'Ittihad Zemouri de Khemisset': 'Morocco', 'Iztapa': 'Guatemala', 'J.S. Groupe Bazano': 'Denmark', 'Jablonec': 'Czech Republic', 'Jagiellonia Białystok': 'Poland', 'Jagodina': 'Serbia', 'Jaguares Chiapas': 'Mexico', 'Jalapa': 'Guatemala', 'Jangorzo': 'Niger', 'Javor': 'Serbia', 'Jazeerat Al Feel': 'Sudan', 'JC Abidjan': 'Ivory Coast', 'JCT FC': 'India', \"Jeanne d'Arc de Bamako\": 'Mali', 'Jedinstvo BP': 'Montenegro', 'JEF United': 'Japan', 'Jeju United': 'South Korea', 'Jeonbuk FC': 'South Korea', 'Jeonnam Dragons': 'South Korea', 'Jeunesse Sportive de Kinshasa': 'Congo DR', 'Jeunesse Sportive Soualem': 'Morocco', 'Jiangsu Suning FC': 'China PR', 'Jigawa Golden Stars': 'Nigeria', 'JL Chiangmai United FC': 'Thailand', 'Jocoro FC': 'El Salvador', 'Joe Public': 'Trinidad and Tobago', 'Joenkoepings Soedra': 'Sweden', \"Johor Darul Ta'zim FC\": 'Malaysia', 'Johvi FC Lokomotiv': 'Estonia', 'Joinville EC': 'Brazil', 'Jomo Cosmos': 'South Africa', 'Jorge Wilstermann': 'Bolivia', 'José Gálvez': 'Peru', 'JS Kabylie': 'Algeria', 'JS Kairouanaise': 'Tunisia', 'JS Saoura': 'Algeria', 'JSK Chabab Kasba Tadla': 'Morocco', 'JSM Béjaïa': 'Algeria', 'JSM Laâyoune': 'Morocco', 'JSM Skikda': 'Algeria', 'Juan Aurich': 'Peru', 'Júbilo Iwata': 'Japan', 'Junior FC': 'Colombia', 'JUTH FC': 'Nigeria', 'Juticalpa': 'Honduras', 'Juventud de Las Piedras': 'Uruguay', 'Juventud Escuintleca': 'Guatemala', 'Juventud Independiente': 'El Salvador', 'Juventud Retalteca': 'Guatemala', 'Juventus': 'Italy', 'Juventus Bucureşti': 'Romania', 'Juventus Managua': 'Nicaragua', 'Jwaneng Galaxy FC': 'Botswana', 'Jyvaskyla JK': 'Finland', 'Kabasha': 'Congo DR', 'Kabuscorp SCP': 'Angola', 'Kabwe Warriors': 'Zambia', 'KAC Kénitra': 'Morocco', 'KACM Marrakech': 'Morocco', 'Kaduna United FC': 'Nigeria', 'Kafue Celtic': 'Zambia', 'Kairat Almaty': 'Kazakhstan', 'Kaisar Kyzylorda': 'Kazakhstan', 'Kaiserslautern': 'Germany', 'Kaizer Chiefs': 'South Africa', 'Kaliakra': 'Bulgaria', 'Kalmar FF': 'Sweden', 'Kaloum Star': 'Guinea', 'Kalteng Putra': 'Indonesia', 'Kalulushi Modern Stars': 'Zambia', 'Kalyani Bharat FC': 'India', 'Kano Pillars': 'Nigeria', 'Kansanshi Dynamos': 'Zambia', 'Kapfenberger SV': 'Austria', 'Kaposvári Rákóczi': 'Hungary', 'Karabükspor': 'Turkey', 'Karela United FC': 'Ghana', 'Karlovac': 'Croatia', 'Karmiotissa Pano Polemidion': 'Cyprus', 'Karpaty Lviv': 'Ukraine', 'Karvan': 'Azerbaijan', 'Kashima Antlers': 'Japan', 'Kashiwa Reysol': 'Japan', 'Kasımpaşa': 'Turkey', 'Katsina United': 'Nigeria', 'Kavala': 'Greece', 'Kawasaki Frontale': 'Japan', 'Kaya F.C.-Iloilo': 'Peru', 'Kayseri Erciyesspor': 'Turkey', 'Kayserispor': 'Turkey', 'Kazakhmys': 'Kazakhstan', 'KCCA FC': 'Togo', 'Kecskeméti TE': 'Hungary', 'Kenkre FC': 'India', 'Kerala Blasters FC': 'India', 'Keşlə Futbol Klubu': 'Azerbaijan', 'KF Shkendija': 'Macedonia', 'KF Tirana': 'Albania', 'Kfarsoum': 'Jordan', 'Khazar Lankaran FK': 'Azerbaijan', 'Khimki': 'Russia', 'Khon Kaen United FC': 'Thailand', 'Khonkaen': 'Thailand', 'Khorfakkan Club': 'United Arab Emirates', 'Khroub': 'Algeria', 'Kiglon': 'Zimbabwe', 'Kilmarnock': 'Scotland', 'King Faisal': 'Ghana', 'Kisvárda Master Good': 'Hungary', 'Kitchee': 'Hong Kong', 'Kitwe United': 'Zambia', 'Kiwi': 'Samoa', 'Kladno': 'Czech Republic', 'Klaipedos Granitas': 'Lithuania', 'København': 'Denmark', 'Kokand 1912': 'Uzbekistan', 'Koloale': 'Solomon Islands', 'Kongsvinger': 'Norway', 'Konkola Blades': 'Zambia', 'Konkola Mine Police': 'Zambia', 'Konyaspor': 'Turkey', 'Koper': 'Slovenia', 'Korona Kielce': 'Poland', 'Kortrijk': 'Belgium', 'Košice': 'Slovakia', 'Kozara Gradiška': 'Bosnia and Herzegovina', 'KPV': 'Finland', 'KRC Genk': 'Belgium', 'Kristiansund BK': 'Norway', 'Krumkachy Minsk': 'Belarus', 'Kruoja Pakruojis': 'Lithuania', 'Krylya Sovetov Samara': 'Russia', 'Kryvbas': 'Ukraine', 'KS Raków Częstochowa': 'Poland', 'KS Warta Poznań': 'Poland', \"Kuban' Krasnodar\": 'Russia', 'Kukesi': 'Albania', 'KuPS': 'Finland', 'Kuwait SC': 'Kuwait', 'KV Mechelen': 'Belgium', 'KV Oostende': 'Belgium', 'Kwara United': 'Nigeria', 'Kyoto Sanga FC': 'Japan', 'Kyzylzhar Petropavlovsk': 'Kazakhstan', 'L.A. Firpo': 'El Salvador', 'La Equidad': 'Colombia', 'LA Galaxy': 'United States', 'La Horquetta Rangers FC': 'Trinidad and Tobago', 'La Paz': 'Bolivia', 'La U Universitarios': 'Costa Rica', 'Lae City Dwellers': 'Papua New Guinea', 'Lajong SC': 'India', 'Lamia': 'Greece', 'Lamontville Golden Arrows': 'South Africa', 'Lanús': 'Argentina', 'Larisa Ael': 'Greece', 'Larne FC': 'Northern Ireland', 'Las Palmas': 'Spain', 'LASK Linz': 'Austria', 'Lausanne': 'Cameroon', 'Lausanne Sport': 'Switzerland', 'Lautoka': 'Fiji', 'Lazio': 'Italy', 'LD Alajuelense': 'Costa Rica', 'LDU de Quito': 'Ecuador', 'LDU Portoviejo': 'Ecuador', 'Le Mans': 'France', 'Lecce': 'Italy', 'Lech Poznań': 'Poland', 'Lechia Gdańsk': 'Poland', 'Leeds United': 'England', 'Leganes': 'Spain', 'Legia Warszawa': 'Poland', 'Legon Cities FC': 'Ghana', 'Leicester City': 'England', 'Leixões': 'Portugal', 'Lengthens': 'Zimbabwe', 'Lens': 'France', 'León': 'Mexico', 'León de Huánuco': 'Peru', 'Leones FC': 'Colombia', 'Leones Negros U. de G.': 'Mexico', 'Léopards de Dolisié': 'Congo', 'Levadiakos': 'Greece', 'Levante': 'Spain', 'Levski Sofia': 'Bulgaria', 'Liaoning Hongyun': 'China PR', 'Libertad': 'Paraguay', 'Liberty Professionals': 'Ghana', 'Lierse': 'Belgium', 'Lietava Jonava': 'Lithuania', 'Liga de Loja': 'Ecuador', 'Liga Muçulmana': 'Mozambique', 'Likasi': 'Congo DR', 'Lille': 'France', 'Lillestrøm': 'Norway', 'Lime Hotspurs': 'Zambia', 'Limerick': 'Ireland', 'Limón': 'Costa Rica', 'Lincoln Red Imps FC': 'Gibraltar', 'Linfield': 'Northern Ireland', 'Lion Blessé': 'Cameroon', 'Litex Lovech': 'Bulgaria', 'Liverpool': 'Uruguay', 'Liverpool FC': 'England', 'Livingston FC': 'Scotland', 'Livorno': 'Italy', 'Llandudno FC': 'Wales', 'Llanelli': 'Wales', 'Llaneros de Guanare': 'Venezuela', 'LLB Académic': 'Burundi', 'Lobi Stars': 'Nigeria', 'Lobos B.U.A.P.': 'Mexico', 'Lobos UPNFM': 'Honduras', 'Łódzki KS': 'Poland', 'Lokeren': 'Belgium', 'Lokomotiv Astana': 'Kazakhstan', 'Lokomotiv Gorna Oryahovitsa': 'Bulgaria', 'Lokomotiv Mezdra': 'Bulgaria', 'Lokomotiv Moskva': 'Russia', 'Lokomotiv Plovdiv': 'Bulgaria', 'Lokomotiv Tashkent': 'Uzbekistan', 'Lokomotiva': 'Croatia', 'Lokomotivi Tbilisi': 'Georgia', 'Longford Town': 'Ireland', 'Lootus': 'Estonia', 'Lorient': 'France', 'Los Angeles FC': 'United States', 'Lovćen': 'Montenegro', 'LPTA Tozeur': 'Tunisia', 'Lučko': 'Croatia', 'Lugano': 'Switzerland', 'Lumwana Radiants': 'Zambia', 'Lupe ole Soaga': 'Samoa', 'Lusaka Dynamos': 'Zambia', 'Luzern': 'Switzerland', 'Lyn': 'Norway', 'Lyngby': 'Denmark', 'Lyon': 'France', 'Lys Sassandra': 'Ivory Coast', 'Lyubimets': 'Bulgaria', 'Ma Pau': 'Trinidad and Tobago', 'Maardu Linnameeskond': 'Estonia', 'Macará': 'Ecuador', 'Macarthur FC': 'Australia', 'Maccabi Ahi Nazareth': 'Israel', 'Maccabi Haifa FC': 'Israel', 'Maccabi Netanya': 'Israel', 'Maccabi Petah Tikva': 'Israel', 'Maccabi Tel Aviv': 'Israel', 'Machine Sazi FC': 'Iran', 'Mačva Šabac': 'Serbia', 'Madang': 'Papua New Guinea', 'Madura United': 'Indonesia', 'Maghreb Fès': 'Morocco', 'Mahindra United': 'India', 'Mainz': 'Germany', 'Makedonija Gjorče Petrov': 'Macedonia', 'Málaga': 'Spain', 'Malampa Revivors FC': 'Vanuatu', 'Malavan': 'Iran', 'Malekesa': 'Congo DR', 'Mallorca': 'Spain', 'Malmö FF': 'Sweden', 'Mamelodi Sundowns FC': 'South Africa', 'Managua FC': 'Nicaragua', 'Manchester City': 'England', 'Manchester United': 'England', 'Manica Diamonds': 'Zimbabwe', 'Maniema Union': 'Congo DR', 'Manisaspor': 'Turkey', 'Mansheyat Bani Hasan': 'Jordan', 'Manta': 'Ecuador', 'Manu Ura': 'Tahiti', 'Marathón': 'Honduras', 'Marek Dupnitsa': 'Bulgaria', 'Maribor': 'Slovenia', 'Marist': 'Solomon Islands', 'Maritzburg United': 'South Africa', 'Marseille': 'France', 'Marumo Gallants FC': 'South Africa', \"Mash'al Muborak\": 'Uzbekistan', 'Masvingo United': 'Zimbabwe', 'Matiti Mabe': 'Congo DR', 'Matsumoto Yamaga': 'Japan', 'Mattersburg': 'Austria', 'Maverly Hughenden FC': 'Jamaica', 'Mayagüez': 'Puerto Rico', 'Mazatlán FC': 'Mexico', 'Mbabane Swallows': 'Sudan', 'MC Alger': 'Algeria', 'MC El Eulma': 'Algeria', 'MC Oran': 'Algeria', 'MCO Oujda': 'Morocco', 'Medeama SC': 'Ghana', 'Medimurje': 'Croatia', 'Melbourne City FC': 'Australia', 'Melbourne Victory': 'Australia', 'Melipilla': 'Chile', 'Merani Martvili': 'Georgia', 'Merikh Kosti': 'Sudan', 'Merreikh El-Fasher': 'Sudan', 'Merreikh Nyala': 'Sudan', 'Mersin İdmanyurdu': 'Turkey', 'Mes Kerman': 'Iran', 'Mes Rafsanjan': 'Iran', 'Meshki Pooshan Football Club': 'Iran', 'Metalist 1925 Kharkiv': 'Ukraine', 'Metalist Kharkiv': 'Ukraine', 'Metalleghe BSI': 'Bosnia and Herzegovina', 'Metallurg Bekobod': 'Uzbekistan', 'Metalurh Donetsk': 'Ukraine', 'Metalurh Zaporizhya': 'Ukraine', 'Metropolitanos FC': 'Venezuela', 'Metz': 'France', 'Mezőkövesd-Zsóry': 'Hungary', 'MFK Karviná': 'Czech Republic', 'MFK Tatran Liptovský Mikuláš': 'Slovakia', 'MFM FC': 'Nigeria', 'Mictlán': 'Guatemala', 'Middlesbrough': 'England', 'Miedź Legnica': 'Poland', 'Mighty Jets': 'Ghana', 'Millonarios': 'Colombia', 'Mineros de Guayana': 'Venezuela', 'Minnesota United': 'United States', 'Minyor Pernik': 'Bulgaria', 'Miramar Misiones': 'Uruguay', 'Misr El Makasa': 'Egypt', 'Mitra Kukar': 'Indonesia', 'Mjällby AIF': 'Sweden', 'Mjøndalen IF': 'Norway', 'Mladá Boleslav': 'Czech Republic', 'Mladi Radnik': 'Serbia', 'Mladost CD': 'Macedonia', 'Mladost Velika': 'Bosnia and Herzegovina', 'MO Béjaia': 'Algeria', 'Moghreb Tétouan': 'Morocco', 'Mogren': 'Montenegro', 'Mohammedan SC': 'India', 'Mohun Bagan': 'India', 'MOIK': 'Azerbaijan', 'MOL Fehérvár FC': 'Hungary', 'Molde FK': 'Norway', 'Molinos El Pirata FC': 'Peru', 'Molunge': 'Congo DR', 'Molynes United FC': 'Jamaica', 'Monaco': 'France', 'Monagas SC': 'Venezuela', 'Monaghan United': 'Ireland', 'Monarcas Morelia': 'Mexico', 'Monomatapa United': 'Zimbabwe', 'Mons': 'Belgium', 'Mont Bleu': 'Denmark', 'Mont-Dore': 'New Caledonia', 'Montana': 'Bulgaria', 'Montedio Yamagata': 'Japan', 'Montego Bay United': 'Jamaica', 'Monterrey': 'Mexico', 'Montevideo Wanderers': 'Uruguay', 'Montpellier': 'France', 'Moossou FC': 'Ivory Coast', 'Mordovia Saransk': 'Russia', 'Moreirense': 'Portugal', 'Mornar': 'Montenegro', 'Morobe Wawens': 'Papua New Guinea', 'Moroka Swallows': 'South Africa', 'Moskva': 'Russia', 'Motagua': 'Honduras', 'Motema Pembe': 'Congo DR', 'Motherwell': 'Scotland', 'Motor Action': 'Zimbabwe', 'Mount Pleasant FC': 'Jamaica', 'Mouscron-Péruwelz': 'Belgium', 'MP Antalyaspor': 'Turkey', 'MSP Batna': 'Algeria', 'MTK Budapest': 'Hungary', 'Muaither SC': 'Qatar', 'Muangthong United': 'Thailand', 'Mufulira Wanderers': 'Zambia', 'Muğan': 'Azerbaijan', 'Mumbai City FC': 'India', 'Mumbai FC': 'India', 'Municipal Limeño': 'El Salvador', 'Mura 05': 'Slovenia', 'Mushuc Runa SC': 'Ecuador', 'Muungano': 'Congo DR', 'MyPa': 'Finland', 'MZKS Arka Gdynia': 'Poland', 'NA Hussein Dey': 'Algeria', 'NAC Breda': 'Netherlands', 'Nacional': 'Portugal', 'Nacional Asunción': 'Paraguay', 'Nacional de Benguela': 'Angola', 'Nacional Potosí': 'Bolivia', 'Nadi': 'Fiji', 'Naft Masjed Soleyman FC': 'Iran', 'Naft Tehran': 'Iran', 'Nafta': 'Slovenia', 'Naftan Novopolotsk': 'Belarus', 'Nagoya Grampus Eight': 'Japan', 'Najran SC': 'Saudi Arabia', 'Nakambala Leopards': 'Zambia', 'Nakhon Pathom': 'Thailand', 'Nakhon Ratchasima FC': 'Thailand', 'Nalkutan FC': 'Vanuatu', 'Nancy': 'France', 'Nantes': 'France', 'Napredak': 'Serbia', 'Napredok': 'Macedonia', 'NAPSA Stars FC': 'Zambia', 'Narva Trans': 'Estonia', 'Nasaf Qarshi': 'Uzbekistan', 'Nasarawa United': 'Nigeria', 'Nashville SC': 'United States', 'Nassaji Mazandaran': 'Iran', 'National Assembly': 'Zambia', 'National Bank': 'Egypt', 'Náutico': 'Brazil', 'Naval 1º de Maio': 'Portugal', 'Navbahor Namangan': 'Uzbekistan', 'NC Magra': 'Algeria', 'Nchanga Rangers': 'Zambia', 'ND Triglav': 'Slovenia', 'Ndjadi': 'Congo DR', 'Ndoki ya Ndombe': 'Congo DR', 'Nea Salamis': 'Cyprus', 'Neath Athletic': 'Wales', 'NEC Nijmegen': 'Netherlands', 'Necaxa': 'Honduras', 'Neftchi': 'Uzbekistan', 'Neftçi': 'Azerbaijan', 'Neftochimic Burgas 1962': 'Bulgaria', 'Nejmeh SC': 'Lebanon', 'Neman Grodno': 'Belarus', 'Nembe City FC': 'Nigeria', 'Neuchâtel Xamax': 'Switzerland', 'Nevėžis Kėdainiai': 'Lithuania', 'New Edubiase FC': 'Ghana', 'New England Revolution': 'United States', 'New Soger': 'Congo DR', 'New Star de Douala': 'Cameroon', 'New York City FC': 'United States', 'New York Red Bulls': 'United States', 'Newcastle United': 'England', 'Newcastle United Jets': 'Australia', \"Newell's Old Boys\": 'Argentina', 'Newry City AFC': 'Northern Ireland', 'Newtown': 'Wales', 'Ngezi Platinum FC': 'Zimbabwe', 'Nice': 'France', 'NIGELEC': 'Niger', 'Niger Tornadoes': 'Nigeria', 'Niki Volou': 'Greece', 'Nîmes Olympique': 'France', 'Nistru': 'Moldova', 'Nitra': 'Slovakia', 'Njala Quan': 'Cameroon', 'Njube Sundowns': 'Zimbabwe', 'NK Bravo': 'Slovenia', 'NK Celje': 'Slovenia', 'NK Istra 1961': 'Croatia', 'NK Krka': 'Slovenia', 'NK Krsko': 'Slovenia', 'NK Rudeš': 'Croatia', 'NK Tabor Sežana': 'Slovenia', 'NK Varaždin': 'Croatia', 'NK Zadar': 'Croatia', 'NK Zagreb': 'Croatia', 'NK Zvijezda Gradacac': 'Bosnia and Herzegovina', 'Nkana FC': 'Zambia', 'Nkoy': 'Congo DR', 'Nkoyi Bilombe': 'Denmark', 'Nkwazi': 'Zambia', 'Noah Jūrmala': 'Latvia', 'Nogoom FC': 'Egypt', 'Nomme JK Kalju': 'Estonia', 'Nong Bua Pitchaya FC': 'Thailand', 'Nord Sport': 'Denmark', 'Nordsjælland': 'Denmark', 'North Eastern Re Organising Cultural Association': 'India', 'North Queensland Fury': 'Australia', 'Northeast United FC': 'India', 'Norwich City': 'England', 'Novara': 'Italy', 'Novi Pazar': 'Serbia', 'NŠ Mura': 'Slovenia', 'Ñublense': 'Chile', 'Nueva Chicago': 'Argentina', 'Nueve de Octubre': 'Ecuador', 'Nürnberg': 'Germany', 'Nyíregyháza Spartacus': 'Hungary', \"O'Higgins\": 'Chile', 'Obod': 'Uzbekistan', \"Obolon'\": 'Ukraine', 'Ocean Boys FC': 'Nigeria', 'Ocean Pacifique': 'Denmark', 'OCK Khouribga': 'Morocco', 'Odds Ballklubb': 'Norway', 'Odense Boldklub': 'Denmark', 'Odra Wodzisław': 'Poland', 'Oestersunds FK': 'Sweden', 'Office Niger Sports': 'Mali', 'OFI Crete': 'Greece', 'OFK Beograd': 'Serbia', 'OFK Titograd': 'Montenegro', 'OFTA FC': 'Cameroon', 'Ohod Saudi FC': 'Saudi Arabia', 'Oita Trinita': 'Japan', 'Okzhetpes Kokshetau': 'Kazakhstan', 'Oleksandriya': 'Ukraine', 'Olhanense': 'Portugal', 'Olimpia': 'Paraguay', 'Olimpija Ljubljana': 'Slovenia', 'Olimpik Donetsk': 'Ukraine', 'Olimpik Sarajevo': 'Bosnia and Herzegovina', 'Olimpo': 'Argentina', 'Olympiakos': 'Greece', 'Olympiakos Nicosia': 'Cyprus', 'Olympiakos Volos': 'Greece', 'Olympic Club': 'Congo DR', 'Olympic Club de Safi': 'Morocco', 'Olympic El Qanah FC': 'Egypt', 'Olympic Niamey': 'Niger', 'Olympique Béja': 'Tunisia', 'Olympique de Bamako': 'Mali', 'Olympique de Medea': 'Algeria', 'Olympique de Missira': 'Mali', 'Olympique du Kef': 'Tunisia', 'Omiya Ardija': 'Japan', 'Omonia Nicosia': 'Cyprus', 'Once Caldas': 'Colombia', 'Once Municipal': 'El Salvador', 'ONGC FC': 'India', 'Onze Créateurs': 'Mali', 'Opava': 'Czech Republic', 'Ordabasy Shymkent': 'Kazakhstan', 'Orduspor': 'Turkey', 'Örebro': 'Sweden', 'Orense SC': 'Ecuador', 'Örgryte': 'Sweden', 'Oriente Petrolero': 'Bolivia', 'Orión': 'Costa Rica', 'Orlando City': 'United States', 'Orlando Pirates': 'South Africa', 'Osasuna': 'Spain', 'Osijek': 'Croatia', 'Osmanlıspor FK': 'Turkey', 'Öster': 'Sweden', 'Oţelul Galaţi': 'Romania', 'Othellos Athienou FC': 'Cyprus', 'Oud-Heverlee Leuven': 'Belgium', 'Ouragahio': 'Ivory Coast', 'PA Sambizanga': 'Angola', 'Pacífico': 'Peru', 'Paços de Ferreira': 'Portugal', 'Padideh F.C.': 'Iran', 'PAEEK': 'Cyprus', 'Paernu Linnameeskond': 'Estonia', 'Pafos FC': 'Cyprus', 'Paide Linnameeskond': 'Estonia', 'Pakhtakor Tashkent': 'Uzbekistan', 'Paksi SE': 'Hungary', 'Palermo': 'Italy', 'Palestino': 'Chile', 'Palmeiras': 'Brazil', 'Panathinaikos': 'Greece', 'Pandurii Târgu Jiu': 'Romania', 'Panetolikos': 'Greece', 'Panionios': 'Greece', 'Panserraikos': 'Greece', 'Panthère': 'Cameroon', 'Panthrakikos Komotini': 'Greece', 'PAOK FC': 'Greece', 'Pápa': 'Hungary', 'Papua New Guinea U20': 'Papua New Guinea', 'Paradou AC': 'Algeria', 'Paraná Clube': 'Brazil', 'Paris Saint-Germain': 'France', 'Parma Calcio 1913': 'Italy', 'Pärnu JK Vaprus': 'Estonia', 'Parrillas One': 'Honduras', 'Pars Jonoubi Jam': 'Iran', 'Partick Thistle': 'Scotland', 'Partizan Beograd': 'Serbia', 'Partizan Minsk': 'Belarus', 'Partizani Tirana': 'Albania', 'PAS Giannina': 'Greece', 'Pas Hamedan': 'Iran', 'Pasaquina F.C.': 'El Salvador', 'Patriotas Boyacá': 'Colombia', 'Patronato de Parana': 'Argentina', 'Pattaya United': 'Thailand', 'Paykan F.C.': 'Iran', 'PEC Zwolle': 'Netherlands', 'Pécsi MFC': 'Hungary', 'Pelister': 'Macedonia', 'Pelita Bandung Raya': 'Indonesia', 'Penafiel': 'Portugal', 'Peñarol': 'Uruguay', 'Penybont FC': 'Wales', 'Pérez Zeledón': 'Costa Rica', 'Persebaya Surabaya': 'Indonesia', 'Persela Lamongan': 'Indonesia', 'Persema Malang': 'Indonesia', 'Persepolis': 'Iran', 'Perseru Badak Lampung': 'Indonesia', 'Persib Bandung': 'Indonesia', 'Persiba Balikpapan': 'Indonesia', 'Persidafon': 'Indonesia', 'Persija Jakarta': 'Indonesia', 'Persijap Jepara': 'Indonesia', 'Persik Kediri': 'Indonesia', 'Persikabo 1973 (INA)': 'Indonesia', 'Persipura Jayapura': 'Indonesia', 'Persiraja Aceh': 'Indonesia', 'Persiram Raja Ampat': 'Indonesia', 'Persita Tangerang': 'Indonesia', 'Persitara Jakarta': 'Indonesia', 'Persiwa Wamena': 'Indonesia', 'Perth Glory': 'Australia', 'Pescara': 'Italy', 'Petro Souths': 'Papua New Guinea', 'Petrojet': 'Egypt', 'Petrolul Ploieşti': 'Romania', 'Petrovac': 'Montenegro', 'Petržalka': 'Slovakia', 'PFC CSKA Sofia': 'Bulgaria', 'PFC Lokomotiv Sofia 1929': 'Bulgaria', 'PFC Ludogorets 1945 Razgrad': 'Bulgaria', 'PFC Sochi': 'Russia', 'Pharco FC': 'Egypt', 'Philadelphia Union': 'United States', 'Piast Gliwice': 'Poland', 'Pirae': 'Syria', 'Pirin Blagoevgrad': 'Bulgaria', 'Pirin Gotse Delchev': 'Bulgaria', 'PK-35 Vantaa': 'Finland', 'Platanias': 'Greece', 'Plateau United': 'Nigeria', 'Platense': 'Honduras', 'Platinum Stars': 'South Africa', 'Plaza Colonia': 'Uruguay', 'Pobeda': 'Macedonia', 'Podbeskidzie Bielsko-Biala': 'Poland', 'Podbrezová': 'Slovakia', 'Pogoń Szczecin': 'Poland', 'Pohang Steelers': 'South Korea', 'Point Fortin FC': 'Trinidad and Tobago', 'Police': 'Trinidad and Tobago', 'Police FC': 'Niger', 'Police Tero FC': 'Thailand', 'Police United FC': 'Thailand', 'Politehnica Iaşi': 'Romania', 'Polokwane City': 'South Africa', 'Polonia Bytom': 'Poland', 'Polonia Warszawa': 'Poland', 'Ponte Preta': 'Brazil', 'Porcelana FC': 'Angola', 'Port F.C.': 'Thailand', 'Port Talbot': 'Wales', 'Portadown FC': 'Northern Ireland', 'Porthmadog': 'Wales', 'Portimonense': 'Portugal', 'Portland Timbers': 'United States', 'Portmore United FC': 'Jamaica', 'Portsmouth': 'England', 'Portuguesa': 'Brazil', 'Portuguesa FC': 'Venezuela', 'Power Dynamos': 'Zambia', 'Prachuap FC': 'Thailand', 'Prestatyn Town FC': 'Wales', 'Pretoria University': 'South Africa', 'Příbram': 'Czech Republic', 'Primorje': 'Slovenia', 'Prison Leopards': 'Zambia', 'Progresso Associação do Sambizanga': 'Angola', 'Progresso da Lunda Sul': 'Angola', 'PS Kemi': 'Finland', 'PSIS': 'Indonesia', 'PSM Makassar': 'Indonesia', 'PSMS': 'Indonesia', 'PSPS Pekanbaru': 'Indonesia', 'PSS Sleman': 'Indonesia', 'PSV Eindhoven': 'Netherlands', 'PTT Rayong FC': 'Thailand', 'Puaikura': 'Cook Islands', 'Puerto Rico Islanders': 'Puerto Rico', 'Puerto Rico United': 'Puerto Rico', 'Pumas UNAM': 'Mexico', 'Pune FC': 'India', 'Punjab Football Club': 'India', 'Puntarenas FC': 'Costa Rica', 'Pusamania Borneo FC': 'Indonesia', 'Puskás FC': 'Hungary', 'Pwd Bamenda': 'Cameroon', 'Pyramids FC': 'Egypt', 'Qäbälä': 'Azerbaijan', 'Qarabağ': 'Azerbaijan', 'Qatar SC': 'Qatar', 'Qingdao FC': 'China PR', 'Qingdao Jonoon': 'China PR', 'Qizilqum Zarafshon': 'Uzbekistan', 'Queens Park Rangers': 'England', 'Quelaton': 'Zimbabwe', 'Querétaro': 'Mexico', 'Quilmes': 'Argentina', 'R.F.C. Seraing': 'Belgium', 'Rabotnički': 'Macedonia', 'Racing Beirut': 'Lebanon', 'Racing Club': 'Uruguay', \"Racing Club d'Abidjan\": 'Ivory Coast', 'Racing de Casablanca': 'Morocco', 'Racing Santander': 'Spain', 'Rad Beograd': 'Serbia', 'Radnički 1923 Kragujevac': 'Serbia', 'Radnički Niš': 'Serbia', 'Radnik Bijeljina': 'Bosnia and Herzegovina', 'Radomiak Radom': 'Poland', 'Radomlje': 'Slovenia', 'Rah Ahan': 'Iran', 'Raja Beni Mellal': 'Morocco', 'Rajasthan United': 'India', 'Rakvere JK Tarvas': 'Estonia', 'Ramonense PO': 'Costa Rica', 'Rampla Juniors': 'Uruguay', 'Ranchers Bees': 'Nigeria', 'Randers FC': 'Denmark', 'Rangdajied United': 'India', 'Rangers': 'Chile', 'Ranheim': 'Norway', 'Rapid Bucureşti': 'Romania', 'Rapid Wien': 'Austria', 'Rapide Club Oued Zem': 'Morocco', 'Ratchaburi FC': 'Thailand', 'Rayo Vallecano': 'Spain', 'RB Leipzig': 'Germany', 'RC Arbaâ': 'Algeria', 'RC Bafoussam': 'Cameroon', 'RC Kinshasa': 'Congo DR', 'RC Relizane': 'Algeria', 'RC Strasbourg': 'France', 'RCA Raja Casablanca Athletic': 'Morocco', 'RCD Espanyol': 'Spain', 'Reading': 'England', 'Real Betis': 'Spain', 'Real Cartagena': 'Colombia', 'Real España': 'Honduras', 'Real Estelí': 'Nicaragua', 'Real Juventud': 'Honduras', 'Real Kashmir FC': 'India', 'Real Madrid': 'Spain', 'Real Madriz': 'Nicaragua', 'Real Mamoré': 'Bolivia', 'Real Potosí': 'Bolivia', 'Real Salt Lake': 'United States', 'Real Santa Cruz': 'Bolivia', 'Real Sociedad': 'Honduras', 'Real Tamale': 'Ghana', 'Real Tomayapo': 'Bolivia', 'Real Valladolid': 'Spain', 'Real Zaragoza': 'Spain', 'Recreativo da Caála': 'Angola', 'Recreativo do Libolo': 'Angola', 'Red Arrows': 'Zambia', 'Red Bull Bragantino SP': 'Brazil', 'Red Bull Salzburg': 'Austria', 'Reims': 'France', 'Remo Stars': 'Nigeria', 'Renaissance Club Zemamra': 'Morocco', 'Renaissance de Ngoumou': 'Cameroon', 'Rennes': 'France', 'Reno FC': 'Jamaica', 'Renova': 'Macedonia', 'Rentistas': 'Uruguay', 'Resistencia Sport Club': 'Paraguay', 'Revan Baku': 'Azerbaijan', 'Rewa': 'Fiji', 'Rhyl': 'Wales', 'Riga FC': 'Latvia', 'Rigas Futbola skola': 'Latvia', 'Rijeka': 'Croatia', 'Río Abajo': 'Panama', 'Rio Ave': 'Portugal', 'Rising Stars': 'Nigeria', 'River Plate': 'Uruguay', 'River Plate Ecuador': 'Ecuador', 'River Plate PR': 'Puerto Rico', 'Rivoli United': 'Jamaica', 'Rizespor': 'Turkey', 'RKC Waalwijk': 'Netherlands', 'RNK Split': 'Croatia', 'Roan United': 'Zambia', 'Roda JC Kerkrade': 'Netherlands', 'Roeselare': 'Belgium', 'Rojolu': 'Congo DR', 'Roma': 'Italy', 'RoPS Rovaniemi': 'Finland', 'Rosario Central': 'Argentina', 'Rosenborg BK': 'Norway', 'Ross County': 'Scotland', 'Roumde Adjia': 'Cameroon', 'Royal AM': 'South Africa', 'Royal Antwerp FC': 'Belgium', 'Royal Excel Mouscron Péruwelz': 'Belgium', 'Royal Pari': 'Bolivia', 'Royal Wahingdoh': 'India', 'RSB Berkane': 'Morocco', 'RSC Anderlecht': 'Belgium', 'Rubin Kazan': 'Russia', 'Rubio Ñú': 'Paraguay', 'Ruch Chorzów': 'Poland', 'Rudar Pljevlja': 'Montenegro', 'Rudar Prijedor': 'Bosnia and Herzegovina', 'Rudar Velenje': 'Slovenia', 'Rukh Vynnyky': 'Ukraine', 'Ružomberok': 'Slovakia', 'Saba Qom': 'Iran', 'Sabah FK': 'Azerbaijan', 'Sabana de Mopti': 'Mali', 'Sabé': 'Ivory Coast', 'Sable Batié': 'Cameroon', 'Saburtalo': 'Georgia', 'Sacachispas Chiquimula': 'Guatemala', 'Sagan Tosu': 'Japan', 'Săgeata Năvodari': 'Romania', 'Sagrada Esperança': 'Angola', 'Sahab SC': 'Jordan', 'Sahel': 'Niger', 'Saïda': 'Algeria', 'Saint George': 'Ethiopia', 'Saint-Clément': 'Congo DR', 'Saint-Eloi Lupopo': 'Congo DR', 'Saint-Étienne': 'France', 'Saint-Luc': 'Congo DR', 'Saipa FC': 'Iran', 'Salam Zgharta': 'Lebanon', 'Salgaocar': 'India', 'Sampdoria': 'Italy', 'Samsunspor': 'Turkey', 'Samut Prakan City': 'Thailand', 'Samut Songkram': 'Thailand', 'San Francisco FC': 'Panama', 'San José': 'Bolivia', 'San Jose Earthquakes': 'United States', 'San Juan FC': 'Puerto Rico', 'San Juan Jabloteh': 'Trinidad and Tobago', 'San Lorenzo de Almagro': 'Argentina', 'San Luis': 'Chile', 'San Luis FC': 'Mexico', 'San Marcos': 'Chile', 'San Martín de Tucumán': 'Argentina', 'San Martín San Juan': 'Argentina', 'San Pedro': 'Ivory Coast', 'San Simon': 'Peru', 'Sanat Naft Abadan': 'Iran', 'Sandals South Coast': 'Jamaica', 'Sandecja Nowy Sącz': 'Poland', 'Sandefjord Football': 'Norway', 'Sandnes': 'Norway', 'Sanfrecce Hiroshima': 'Japan', 'Sanga Balende': 'Congo DR', 'Santa Cruz': 'Brazil', 'Santa Fe': 'Colombia', 'Santa Gema FC': 'Panama', 'Santa Lucia Cotzumalguapa': 'Guatemala', 'Santa Rita de Cássia FC': 'Angola', 'Santa Tecla FC': 'El Salvador', 'Santiago Morning': 'Chile', 'Santiago Wanderers': 'Chile', 'Santo André': 'Brazil', 'Santos': 'South Africa', 'Santos de Angola': 'Angola', 'Santos de Guápiles': 'Costa Rica', 'Santos FC': 'Brazil', 'Santos Laguna': 'Mexico', 'São Paulo': 'Brazil', 'Sapovnela': 'Georgia', 'Saraburi FC': 'Thailand', 'Sarmiento': 'Argentina', 'Sarpsborg 08': 'Norway', 'Sassuolo': 'Italy', 'Saturn': 'Russia', 'Saurimo FC': 'Angola', 'SC Bastia': 'France', 'SC Chabab Mohammédia': 'Morocco', 'SC Dnipro-1': 'Ukraine', 'SC Farense': 'Portugal', 'SC Heerenveen': 'Netherlands', 'SC Paderborn 07': 'Germany', 'Schalke 04': 'Germany', 'Scorpion FC de Bé': 'Cameroon', 'SCR Altach': 'Austria', 'SD Atletico Nacional': 'Panama', 'SD Huesca': 'Spain', 'Seattle Sounders FC': 'United States', 'Seinaejoen JK': 'Finland', 'sekhukhune united fc': 'South Africa', 'Sektzia Ness Ziona FC': 'Israel', 'Semen Padang': 'Indonesia', 'Seongnam FC': 'South Korea', 'Sepahan': 'Iran', 'Sepidrood Rasht SC': 'Iran', 'Sepsi OSK': 'Romania', 'Servette': 'Switzerland', 'Sevastopol': 'Ukraine', 'Sevilla': 'Spain', 'Sevilla FC Puerto Rico': 'Puerto Rico', 'Séwé': 'Ivory Coast', 'Səbail FK': 'Azerbaijan', 'Sfîntul Gheorghe': 'Moldova', 'Shabab AL Ghazieh SC': 'Lebanon', 'Shabab Al Sahel': 'Lebanon', 'Shabab Al-Aqaba Club': 'Jordan', 'Shabab Al-Ordon Club': 'Jordan', 'Shabab El Bourj SC': 'Lebanon', 'Shabanie Mine': 'Zimbabwe', 'Shahin Bushehr FC': 'Iran', 'Shahrdari Tabriz': 'Iran', 'Shakhtar Donetsk': 'Ukraine', 'Shakhter Karagandy': 'Kazakhstan', 'Shakhtyor Soligorsk': 'Belarus', 'Shamrock Rovers': 'Ireland', 'Shandong Taishan F.C.': 'China PR', 'Shanghai Port F.C.': 'China PR', 'Shanghai Shenhua': 'China PR', 'Shanghai Shenxin': 'China PR', 'Sharjah Cultural Club': 'United Arab Emirates', 'Shark XI': 'Congo DR', 'Sharks': 'Nigeria', 'Sheffield United FC': 'England', 'Shelbourne': 'Ireland', 'Shenzhen FC': 'China PR', 'Shijiazhuang Ever Bright': 'China PR', 'Shimizu S-Pulse': 'Japan', 'Shkupi Skopje': 'Macedonia', 'Shonan Bellmare': 'Japan', 'Shooting Stars': 'Zimbabwe', 'Shortan Guzor': 'Uzbekistan', 'Siam Navy FC': 'Thailand', 'Siauliai': 'Lithuania', 'Šibenik': 'Croatia', 'Sibir Novosibirsk': 'Russia', 'Siena': 'Italy', 'Sigui': 'Mali', 'Silkeborg': 'Denmark', 'Sillamäe Kalev': 'Estonia', 'Simba SC': 'Tanzania', 'Simurq': 'Azerbaijan', 'Sint-Truiden': 'Belgium', 'Siófok': 'Hungary', 'Sion': 'Switzerland', 'Siquinalá FC': 'Guatemala', 'Sirius': 'Sweden', 'Široki Brijeg': 'Bosnia and Herzegovina', 'Sisaket FC': 'Thailand', 'Sivasspor': 'Turkey', 'SK Austria Klagenfurt': 'Austria', 'SK Babīte': 'Latvia', 'SK Brann': 'Norway', 'SK Sigma Olomouc': 'Czech Republic', 'SK Super Nova': 'Latvia', 'SKA-Khabarovsk': 'Russia', 'Skalica': 'Slovakia', 'Skenderbeu': 'Albania', 'ŠKF Sereď': 'Slovakia', 'SKN Sankt Pölten': 'Austria', 'Śląsk Wrocław': 'Poland', 'Slaven': 'Croatia', 'Slavia Prague': 'Czech Republic', 'Slavia Sofia': 'Bulgaria', 'Slavia-Mozyr': 'Belarus', 'Slavija Sarajevo': 'Bosnia and Herzegovina', 'Sligo Rovers': 'Ireland', 'Sliven': 'Bulgaria', 'Sloboda Tuzla': 'Bosnia and Herzegovina', 'Sloboda Užice': 'Serbia', 'Slovácko': 'Czech Republic', 'Slovan Bratislava': 'Slovakia', 'Slovan Liberec': 'Czech Republic', 'Smederevo': 'Serbia', 'Smolevichy': 'Belarus', 'Smouha SC': 'Egypt', 'SO Armée': 'Ivory Coast', 'Sochaux': 'France', 'Social Sol': 'Honduras', 'Socozaki': 'Denmark', 'Sofapaka': 'Kenya', 'Sogakope WAFA': 'Ghana', 'Sogdiyona Jizzax': 'Uzbekistan', 'Sogndal': 'Norway', 'Sol de América': 'Paraguay', 'SOL FC': 'Ivory Coast', 'Sololá FC': 'Guatemala', 'Solomon Warriors FC': 'Solomon Islands', 'SønderjyskE': 'Denmark', 'Songkhla United FC': 'Thailand', 'South End': 'Trinidad and Tobago', 'Southampton': 'England', 'Southern United': 'New Zealand', 'SPAL 2013': 'Italy', 'Sparta Prague': 'Czech Republic', 'Sparta Rotterdam': 'Netherlands', 'Spartak Moskva': 'Russia', 'Spartak Myjava': 'Slovakia', \"Spartak Nal'chik\": 'Russia', 'Spartak Semey': 'Kazakhstan', 'Spartak Trnava': 'Slovakia', 'Speranţa Crihana': 'Moldova', 'Sport Áncash': 'Peru', 'Sport Boys': 'Peru', 'Sport Boys Warnes': 'Bolivia', 'Sport Colombia': 'Paraguay', 'Sport Huancayo': 'Peru', 'Sport Loreto': 'Peru', 'Sport Lubango e Benfica': 'Angola', 'Sport Recife': 'Brazil', 'Sport Rosario (Huaraz)': 'Peru', 'Sportif de Chebba': 'Tunisia', 'Sporting': 'Portugal', 'Sporting Beirut': 'Lebanon', 'Sporting Central Academy': 'Jamaica', 'Sporting Charleroi': 'Belgium', 'Sporting Clube de Benguela': 'Angola', 'Sporting Clube de Goa': 'India', 'Sporting Cristal': 'Peru', 'Sporting de Cabinda': 'Angola', 'Sporting Fingal': 'Ireland', 'Sporting Gagnoa': 'Ivory Coast', 'Sporting Gijón': 'Spain', 'Sporting Kansas City': 'United States', 'Sporting San José FC': 'Costa Rica', 'Sporting San Miguelito': 'Panama', 'Sportist Svoge': 'Bulgaria', 'Sportive de Djerba': 'Tunisia', 'Sportivo Ameliano': 'Paraguay', 'Sportivo Luqueño': 'Paraguay', 'Sportivo San Lorenzo': 'Paraguay', 'Sportivo Trinidense': 'Paraguay', 'Sportul Studentesc': 'Romania', 'Sreenidi Deccan': 'India', 'Sriracha': 'Thailand', 'Sriwijaya FC': 'Indonesia', 'SSC Napoli': 'Italy', \"St Patrick's\": 'Ireland', 'St. George': 'Ethiopia', 'St. Johnstone': 'Scotland', 'St. Mirren': 'Scotland', 'St. Pauli': 'Germany', 'Stabæk': 'Norway', \"Stade d'Abidjan\": 'Ivory Coast', 'Stade Gabésien': 'Tunisia', 'Stade Malien Bamako': 'Mali', 'Stade Malien Sikasso': 'Mali', 'Stade Renard de Melong': 'Cameroon', 'Stade Tunisien': 'Tunisia', 'Stal Kamianske': 'Ukraine', 'Standard': 'Azerbaijan', 'Standard Liège': 'Belgium', 'Start': 'Norway', 'Steaua Bucureşti': 'Romania', 'Steel Azin': 'Iran', 'Stella Club': 'Ivory Coast', 'Stellenbosch FC': 'South Africa', 'Stjarnan': 'Iceland', 'Stoke City': 'England', 'Strømsgodset': 'Norway', 'Sturm Graz': 'Austria', 'Suchitepéquez': 'Guatemala', 'Sud América': 'Uruguay', 'Sudeva Delhi FC': 'India', 'Suduva Marijampole': 'Lithuania', 'Sukhothai FC': 'Thailand', 'Sumqayıt': 'Azerbaijan', 'Sunderland': 'England', 'Sunkar': 'Kazakhstan', 'Sunshine Stars': 'Nigeria', 'Supersport United': 'South Africa', 'Suphanburi FC': 'Thailand', 'Surkhon-2011': 'Uzbekistan', 'Sutjeska': 'Montenegro', 'Suva': 'Fiji', 'Suwon Bluewings': 'South Korea', 'Suwon FC': 'South Korea', 'SV Ried': 'Austria', 'SV Roeselare': 'Belgium', 'Svetkavitsa': 'Bulgaria', 'Swansea City': 'England', 'Sydney FC': 'Australia', 'Syrianska': 'Sweden', 'Szolnoki MÁV': 'Hungary', 'Szombathelyi Haladás': 'Hungary', 'T&TEC': 'Trinidad and Tobago', 'Tacuarembó': 'Uruguay', 'Tacuary': 'Paraguay', 'Tafea FC': 'Vanuatu', 'Talinna Kalev': 'Estonia', 'Talleres de Cordoba': 'Argentina', 'Tallinna JK Legion': 'Estonia', 'Tamme Auto': 'Estonia', 'Tammeka': 'Estonia', 'Tampere United': 'Finland', 'Tampines Rovers FC': 'Singapore', 'Tanta': 'Egypt', 'Taraba': 'Nigeria', 'Taraz': 'Kazakhstan', 'Târgu Mureş': 'Romania', 'Tasman United': 'New Zealand', 'Tatran Prešov': 'Slovakia', 'Tauro FC': 'Panama', 'Tavriia': 'Ukraine', 'Team Wellington': 'New Zealand', 'Técnico Universitario': 'Ecuador', 'Tefana': 'Tahiti', 'Telephonaat Beni Suef': 'Egypt', 'Tema Youth': 'Ghana', 'Temperley': 'Argentina', 'Tempête': 'Haiti', 'Tenax CS FC': 'Zimbabwe', 'Tenerife': 'Spain', 'Teplice': 'Czech Republic', 'Termalica Nieciecza': 'Poland', 'Teungueth FC': 'Senegal', 'Thai Honda': 'Thailand', 'That Ras Club': 'Jordan', 'The New Saints': 'Wales', 'The Strongest': 'Bolivia', 'Thun': 'Switzerland', 'Tianjin Jinmen Tiger F.C.': 'China PR', 'Tianjin Tianhai': 'China PR', 'Tiare Tahiti': 'Syria', 'Tiburones Rojos de Veracruz': 'Mexico', 'Tigre': 'Argentina', 'Tigres FC': 'Colombia', 'Tigres UANL': 'Mexico', 'Tiko United': 'Cameroon', 'Timişoara': 'Romania', 'Tiraspol': 'Moldova', 'Tivoli Gardens': 'Jamaica', 'Tobago United': 'Trinidad and Tobago', 'Tobol Kostanay': 'Kazakhstan', 'Togo-Port': 'Uganda', 'Tokushima Vortis': 'Japan', 'Tolima': 'Colombia', 'Toluca FC': 'Mexico', \"Tom' Tomsk\": 'Russia', 'Tondela': 'Portugal', 'Tonnerre Kalara Club': 'Cameroon', 'Topolski Sportski Club': 'Serbia', 'Torino': 'Italy', 'Tornados de Humacao': 'Puerto Rico', 'Toronto FC': 'Canada', 'Torpedo Kutaisi': 'Georgia', 'Torpedo Zhodino': 'Belarus', 'TOT': 'Thailand', 'Total Chalaco': 'Peru', 'Tottenham Hotspur': 'England', 'Toulouse': 'France', 'Township Rollers': 'Botswana', 'TP Mazembe': 'Congo DR', 'Trabzonspor': 'Turkey', 'Tractor Sazi': 'Iran', 'Trat FC': 'Thailand', 'TRAU F.C.': 'India', 'Travnik': 'Bosnia and Herzegovina', 'Trelleborgs FF': 'Sweden', 'Trenčín': 'Slovakia', 'Triangle FC': 'Zimbabwe', 'Tripoli AC': 'Lebanon', 'Tripple B': 'Zimbabwe', 'Tromsø IL': 'Norway', 'Troyes': 'France', 'Trujillanos FC': 'Venezuela', 'TS Galaxy': 'South Africa', 'Tshinkunku': 'Congo DR', 'Tsholotsho': 'Zimbabwe', 'TSV Hartberg': 'Austria', 'TTM Chiangmai': 'Thailand', 'Tucanes FC': 'Venezuela', 'Tukoko University': 'Papua New Guinea', 'Tulevik Viljandi': 'Estonia', 'Tupapa Maraerenga': 'Cook Islands', 'Turan Tovuz': 'Azerbaijan', 'Turku PS': 'Finland', 'Turnu Severin': 'Romania', 'U.S. Salernitana 1919': 'Italy', 'Ubon UMT FC': 'Thailand', 'Udinese': 'Italy', 'UES': 'El Salvador', 'Újpest': 'Hungary', 'Ulsan Hyundai': 'South Korea', 'Umm-Salal': 'Qatar', 'UMS de Loum': 'Cameroon', 'UNAN Managua': 'Nicaragua', 'Underhill': 'Zimbabwe', 'Uniao da Madeira': 'Portugal', 'União de Leiria': 'Portugal', 'Uniao Sport Clube do Uige': 'Angola', 'Uniautónoma FC': 'Colombia', 'Unión Comercio': 'Peru', 'Union Deportivo Universitario': 'Panama', 'Union Douala': 'Cameroon', 'Unión Española': 'Chile', 'Unión La Calera': 'Chile', 'Unión San Felipe': 'Chile', 'Unión Santa Fe': 'Argentina', 'Union Sportive de Douala': 'Cameroon', 'Union St.Gilloise': 'Belgium', 'Unirea Alba Iulia': 'Romania', 'Unirea Urziceni': 'Romania', 'Unisport FC Du Haut-Nkam': 'Cameroon', 'United City F.C.': 'Peru', 'United Petrotrin': 'Trinidad and Tobago', 'United Sikkim F.C': 'India', 'United Sports Club': 'India', 'Universidad Católica': 'Ecuador', 'Universidad Central de Venezuela FC': 'Venezuela', 'Universidad César Vallejo': 'Peru', 'Universidad Concepción': 'Chile', 'Universidad de Chile': 'Chile', 'Universidad de San Carlos': 'Guatemala', 'Universidad San Martín de Porres': 'Peru', 'Universitario': 'Bolivia', 'Universitario de Cobija': 'Bolivia', 'Universitario de Deportes': 'Peru', 'Universitario de Vinto': 'Bolivia', 'Universitatea Cluj': 'Romania', 'Universitatea Craiova': 'Romania', 'Université Ngaoundéré': 'Cameroon', 'University College Dublin': 'Ireland', 'Urana': 'Niger', 'Urawa Red Diamonds': 'Japan', 'Urena SC': 'Venezuela', 'US Biskra': 'Algeria', 'US Bitam': 'Tahiti', 'US Monastir': 'Tunisia', 'US Panda B5': 'Congo DR', 'US Tataouine': 'Tunisia', 'Usc Bassam': 'Ivory Coast', 'USFAS Bamako': 'Mali', 'USGN': 'Niger', 'USM Alger': 'Algeria', 'USM Bel Abbès': 'Algeria', 'USM Blida': 'Algeria', 'USM El Harrach': 'Algeria', 'Ústí nad Labem': 'Czech Republic', 'UWI FC': 'Jamaica', 'V-Varen Nagasaki': 'Japan', 'Valencia': 'Spain', 'Valencia de Leogane': 'Haiti', 'Valenciennes': 'France', 'Vålerenga': 'Norway', 'Valmiera FK': 'Latvia', 'Vancouver Whitecaps': 'Canada', 'Varbergs BoIS': 'Sweden', 'Vardar Skopje': 'Macedonia', 'Vasas Budapest': 'Hungary', 'Vasco da Gama': 'Brazil', 'Vegalta Sendai': 'Japan', 'Vejle Boldklub': 'Denmark', 'Velež Mostar': 'Bosnia and Herzegovina', 'Vélez Sarsfield': 'Argentina', 'Vendsyssel FF': 'Denmark', 'Venezia FC': 'Italy', 'Ventforet Kofu': 'Japan', 'Ventspils': 'Latvia', 'Venus': 'Syria', 'Veraguas FC': 'Panama', 'Verdes FC': 'Belize', 'Vere United FC': 'Jamaica', 'Veres Rivne': 'Ukraine', 'Vereya': 'Bulgaria', 'Veria FC': 'Greece', 'Vestsjælland': 'Denmark', 'Veti Club': 'Congo DR', 'VfB Stuttgart': 'Germany', 'Viborg': 'Denmark', 'Victoria': 'Zimbabwe', 'Victoria Branesti': 'Romania', 'Vidima-Rakovski': 'Bulgaria', 'Viettel Football Club': 'Vietnam', 'Viitorul Constanţa': 'Romania', 'Viking FK': 'Norway', 'Viktoria Plzeň': 'Czech Republic', 'Viktoria Žižkov': 'Czech Republic', 'Villa Espanola': 'Uruguay', 'Villa Teresa': 'Uruguay', 'Villarreal': 'Spain', 'Virunga': 'Congo DR', 'Vissel Kobe': 'Japan', 'Vista Hermosa': 'El Salvador', 'Vita Club': 'Congo DR', 'Vitesse': 'Netherlands', 'Vitez': 'Bosnia and Herzegovina', 'Vitória': 'Brazil', 'Vitória Guimarães': 'Portugal', 'Vitória Setúbal': 'Portugal', 'Vitosha Bistritsa': 'Bulgaria', 'Voinţa Sibiu': 'Romania', 'Vojvodina': 'Serbia', 'Volga Nyzhnyi': 'Russia', 'Volos New Football Club': 'Greece', 'Volyn': 'Ukraine', 'Vorskla Poltava': 'Ukraine', 'Vostok': 'Kazakhstan', 'Voždovac': 'Serbia', 'VPS': 'Finland', 'Vutuka': 'Congo DR', 'VVV-Venlo': 'Netherlands', 'Vysočina Jihlava': 'Czech Republic', 'W Connection FC': 'Trinidad and Tobago', 'WA Tlemcen': 'Algeria', 'Waasland-Beveren': 'Belgium', 'Wad Hashim SC Sennar': 'Sudan', 'Wadi Degla FC': 'Egypt', 'WaiBOP United': 'New Zealand', 'Waitakere United': 'New Zealand', 'Wanderers SC': 'New Zealand', 'Warrenpoint Town': 'Northern Ireland', 'Warri Wolves FC': 'Nigeria', 'Warrior': 'Estonia', 'Wassaman United': 'Ghana', 'Waterford FC': 'Ireland', 'Waterford United FC': 'Ireland', 'Waterhouse FC': 'Jamaica', 'Watford': 'England', 'Wellington Phoenix': 'Australia', 'Wellington Phoenix Reserves': 'New Zealand', 'Welshpool Town': 'Wales', 'Werder Bremen': 'Germany', 'West Brom': 'England', 'West Ham United': 'England', 'Westerlo': 'Belgium', 'Western Sydney': 'Australia', 'Western United FC': 'Solomon Islands', 'Wexford Youths': 'Ireland', 'WhaWha': 'Zimbabwe', 'Widzew Łódz': 'Poland', 'Wiener Neustadt': 'Austria', 'Wigan Athletic': 'England', 'Wikki Tourist': 'Nigeria', 'Wiliete SC': 'Angola', 'Willem II': 'Netherlands', 'Williamsville Athletic Club': 'Ivory Coast', 'Wisła Kraków': 'Poland', 'Wisła Płock': 'Poland', 'WIT Georgia Tbilisi': 'Georgia', 'Wolfsberger AC': 'Austria', 'Wolfsburg': 'Germany', 'Wolverhampton Wanderers': 'England', 'WSG Tirol': 'Austria', 'Wuachon United': 'Thailand', 'Wuhan F.C.': 'China PR', 'WWS Rangers': 'Zimbabwe', 'Wydad Casablanca': 'Morocco', 'Wydad Fès': 'Morocco', 'Xanthi FC': 'Greece', 'Xelajú': 'Guatemala', 'Xinabajul': 'Guatemala', 'Xorazm': 'Uzbekistan', 'Yadah FC': 'Zimbabwe', 'Yafoot FC Yaounde 2': 'Cameroon', 'Yanbian': 'China PR', 'Yaracuyanos FC': 'Venezuela', 'Yeni Malatyaspor': 'Turkey', 'Yenisey Krasnoyarsk': 'Russia', 'Yobe Desert Stars': 'Nigeria', 'Yokohama F. Marinos': 'Japan', 'Yokohama FC': 'Japan', 'Yopougon FC': 'Ivory Coast', 'Young Africans': 'Tanzania', 'Young Boys': 'Switzerland', 'Young Green Eagles': 'Zambia', 'Young Heart Manawatu': 'New Zealand', 'Young Sport Academy Bamenda': 'Cameroon', 'Youssoufia Berrechid': 'Morocco', 'Zacapa': 'Guatemala', 'Zagłębie Lubin': 'Poland', 'Zagłębie Sosnowiec': 'Poland', 'Zalaegerszegi TE': 'Hungary', 'Zalgiris Vilnius': 'Lithuania', 'Zamfara United FC': 'Nigeria', 'Zamora FC': 'Venezuela', 'Zanaco': 'Zambia', 'Zaprešić': 'Croatia', 'Zaria Bălți': 'Moldova', 'Zarzis': 'Tunisia', 'Zavrč': 'Slovenia', 'Zawisza Bydgoszcz': 'Poland', 'Željezničar': 'Bosnia and Herzegovina', 'Zemplin Michalovce': 'Slovakia', 'Zenit St. Petersburg': 'Russia', 'ZESCO United': 'Zambia', 'Zestafoni': 'Georgia', 'Zeta': 'Montenegro', 'Zhetysu Taldykorgan': 'Kazakhstan', 'Žilina': 'Slovakia', 'Zimbabwe Saints': 'Zimbabwe', 'Zimbru': 'Moldova', 'Zirə': 'Azerbaijan', 'Zlate Moravce': 'Slovakia', 'Znojmo': 'Czech Republic', 'Zob Ahan Isfahan FC': 'Iran', 'Zorya Luhansk': 'Ukraine', 'ZPC Kariba': 'Zimbabwe', 'Zrinjski Mostar': 'Bosnia and Herzegovina', 'Zulia': 'Venezuela', 'Zulte Waregem': 'Belgium', 'Zumunta': 'Niger', 'Zürich': 'Switzerland'}\n"
     ]
    }
   ],
   "source": [
    "#In order to classify an article based on the nation of the club the article is about we use a dataset that\n",
    "#contains the most important football teams and the corresponding nationality\n",
    "#the dataset is: \"Soccer_Football Clubs Ranking.csv\"\n",
    "\n",
    "import pandas as pd\n",
    "\n",
    "team_nation_full = pd.read_csv(r\"C:\\Users\\Tommaso\\Desktop\\UNIVERSITA\\ARTIFICIAL INTELLIGENCE\\Knowledge Engineering\\Soccer_Football Clubs Ranking.csv\",sep = ',')  # sostituisci con il tuo percorso\n",
    "\n",
    "team_nation_filtered = team_nation_full.iloc[:, [2, 1]]\n",
    "\n",
    "keys = team_nation_filtered.iloc[:, 1]\n",
    "\n",
    "#after extracting the name of each club and its nationality we create a dict\n",
    "#key: name of the club\n",
    "#value: nationality of the club\n",
    "\n",
    "team_dict = dict(zip(keys, team_nation_filtered.iloc[:, 0]))\n",
    "\n",
    "print(team_dict)\n"
   ]
  },
  {
   "cell_type": "code",
   "execution_count": 59,
   "id": "apparent-efficiency",
   "metadata": {},
   "outputs": [
    {
     "name": "stdout",
     "output_type": "stream",
     "text": [
      "NUMBER OF ARTICLES: \n",
      "959\n",
      "NUMBER OF ARTICLES CLASSIFIED BY NATION OF THE CLUB: \n",
      "220\n"
     ]
    }
   ],
   "source": [
    "#WE MAKE A CLASSIFICATION OF THE ARTICLES BASED ON THE COUNTRY OF THE CLUB THE ARTICLE IS ABOUT\n",
    "#we check if the name of a club appears first in the title, then in the description and then in the content of the article\n",
    "\n",
    "nations_found = 0 \n",
    "for i in range(len(data)):\n",
    "    found = False  \n",
    "\n",
    "    for field in ['title', 'description', 'content']:\n",
    "        text = data[i].find(field).text\n",
    "        if text:\n",
    "            for word in text.split():\n",
    "                if word in team_dict:\n",
    "                    #print(team_dict[word])\n",
    "                    #print(word)\n",
    "                    data[i].attrib['Nation'] = team_dict[word]\n",
    "                    nations_found += 1\n",
    "                    found = True\n",
    "                    break  \n",
    "        if found:\n",
    "            break  \n",
    "\n",
    "    if not found:\n",
    "        data[i].attrib['Nation'] = None\n",
    "\n",
    "    #print(data[i].attrib[\"Nation\"])\n",
    "\n",
    "\n",
    "print('NUMBER OF ARTICLES: ')\n",
    "print(len(data))    \n",
    "print('NUMBER OF ARTICLES CLASSIFIED BY NATION OF THE CLUB: ')\n",
    "print(nations_found)\n"
   ]
  },
  {
   "cell_type": "markdown",
   "id": "middle-january",
   "metadata": {},
   "source": [
    "# 4. Data visualization (2 points)\n",
    "We are wondering if the news sources discuss mostly their national football club, or if they also talk about other clubs.\n",
    "\n",
    "Make an interactive plot that shows the relation between a news articles origin country and the topic that they talk about. It needs to include an informative tooltip.\n",
    "\n",
    "You can select whichever visualization library you prefer, note that it is also possible to run JS' d3 in Jupyter notebooks."
   ]
  },
  {
   "cell_type": "code",
   "execution_count": 60,
   "id": "75719ac9",
   "metadata": {},
   "outputs": [
    {
     "data": {
      "application/vnd.plotly.v1+json": {
       "config": {
        "plotlyServerURL": "https://plot.ly"
       },
       "data": [
        {
         "coloraxis": "coloraxis",
         "histfunc": "sum",
         "hovertemplate": "Origin=%{x}<br>Nation=%{y}<br>sum of Article Count=%{z}<extra></extra>",
         "name": "",
         "texttemplate": "%{z}",
         "type": "histogram2d",
         "x": [
          "Belgium",
          "Brazil",
          "Brazil",
          "Brazil",
          "Brazil",
          "France",
          "France",
          "France",
          "France",
          "France",
          "Germany",
          "Germany",
          "Germany",
          "Germany",
          "Germany",
          "Germany",
          "Germany",
          "Great Britain",
          "Great Britain",
          "Great Britain",
          "Great Britain",
          "Great Britain",
          "Italy",
          "Italy",
          "Italy",
          "Italy",
          "Italy",
          "Italy",
          "Netherlands",
          "Netherlands",
          "Netherlands",
          "Netherlands",
          "Netherlands",
          "Netherlands",
          "Netherlands",
          "Netherlands",
          "Netherlands",
          "Netherlands",
          "Portugal",
          "Portugal",
          "Portugal",
          "Portugal",
          "Portugal",
          "Portugal",
          "Spain",
          "Spain",
          "Spain",
          "Switzerland",
          "Switzerland",
          "World",
          "World",
          "World",
          "World",
          "World",
          "World",
          "World",
          "World",
          "World",
          "World",
          "World",
          "World",
          "World"
         ],
         "xaxis": "x",
         "xbingroup": "x",
         "y": [
          "Belgium",
          "Brazil",
          "Colombia",
          "Italy",
          "Spain",
          "Brazil",
          "France",
          "Portugal",
          "Spain",
          "Uruguay",
          "England",
          "Germany",
          "Italy",
          "Moldova",
          "Netherlands",
          "Spain",
          "Uruguay",
          "Italy",
          "Netherlands",
          "Scotland",
          "Spain",
          "Uruguay",
          "Chile",
          "England",
          "France",
          "Italy",
          "Portugal",
          "Uruguay",
          "Chile",
          "Congo DR",
          "England",
          "France",
          "Germany",
          "Italy",
          "Netherlands",
          "Portugal",
          "Scotland",
          "Spain",
          "Brazil",
          "England",
          "France",
          "Italy",
          "Portugal",
          "Spain",
          "Portugal",
          "Spain",
          "Uruguay",
          "Belarus",
          "Switzerland",
          "Brazil",
          "Chile",
          "England",
          "France",
          "Germany",
          "Greece",
          "Italy",
          "Mexico",
          "Netherlands",
          "Portugal",
          "Spain",
          "Trinidad and Tobago",
          "Uruguay"
         ],
         "yaxis": "y",
         "ybingroup": "y",
         "z": [
          1,
          7,
          1,
          1,
          1,
          1,
          7,
          1,
          1,
          2,
          2,
          14,
          3,
          1,
          1,
          3,
          1,
          1,
          1,
          1,
          2,
          1,
          1,
          1,
          1,
          15,
          2,
          1,
          1,
          4,
          2,
          2,
          1,
          2,
          16,
          1,
          1,
          3,
          8,
          2,
          1,
          1,
          10,
          1,
          1,
          5,
          1,
          1,
          2,
          1,
          3,
          21,
          3,
          1,
          2,
          12,
          1,
          1,
          2,
          19,
          1,
          12
         ]
        }
       ],
       "layout": {
        "coloraxis": {
         "colorbar": {
          "title": {
           "text": "sum of Article Count"
          }
         },
         "colorscale": [
          [
           0,
           "rgb(247,251,255)"
          ],
          [
           0.125,
           "rgb(222,235,247)"
          ],
          [
           0.25,
           "rgb(198,219,239)"
          ],
          [
           0.375,
           "rgb(158,202,225)"
          ],
          [
           0.5,
           "rgb(107,174,214)"
          ],
          [
           0.625,
           "rgb(66,146,198)"
          ],
          [
           0.75,
           "rgb(33,113,181)"
          ],
          [
           0.875,
           "rgb(8,81,156)"
          ],
          [
           1,
           "rgb(8,48,107)"
          ]
         ]
        },
        "height": 600,
        "hoverlabel": {
         "bgcolor": "white",
         "font": {
          "family": "Arial",
          "size": 12
         }
        },
        "legend": {
         "tracegroupgap": 0
        },
        "template": {
         "data": {
          "bar": [
           {
            "error_x": {
             "color": "#2a3f5f"
            },
            "error_y": {
             "color": "#2a3f5f"
            },
            "marker": {
             "line": {
              "color": "#E5ECF6",
              "width": 0.5
             },
             "pattern": {
              "fillmode": "overlay",
              "size": 10,
              "solidity": 0.2
             }
            },
            "type": "bar"
           }
          ],
          "barpolar": [
           {
            "marker": {
             "line": {
              "color": "#E5ECF6",
              "width": 0.5
             },
             "pattern": {
              "fillmode": "overlay",
              "size": 10,
              "solidity": 0.2
             }
            },
            "type": "barpolar"
           }
          ],
          "carpet": [
           {
            "aaxis": {
             "endlinecolor": "#2a3f5f",
             "gridcolor": "white",
             "linecolor": "white",
             "minorgridcolor": "white",
             "startlinecolor": "#2a3f5f"
            },
            "baxis": {
             "endlinecolor": "#2a3f5f",
             "gridcolor": "white",
             "linecolor": "white",
             "minorgridcolor": "white",
             "startlinecolor": "#2a3f5f"
            },
            "type": "carpet"
           }
          ],
          "choropleth": [
           {
            "colorbar": {
             "outlinewidth": 0,
             "ticks": ""
            },
            "type": "choropleth"
           }
          ],
          "contour": [
           {
            "colorbar": {
             "outlinewidth": 0,
             "ticks": ""
            },
            "colorscale": [
             [
              0,
              "#0d0887"
             ],
             [
              0.1111111111111111,
              "#46039f"
             ],
             [
              0.2222222222222222,
              "#7201a8"
             ],
             [
              0.3333333333333333,
              "#9c179e"
             ],
             [
              0.4444444444444444,
              "#bd3786"
             ],
             [
              0.5555555555555556,
              "#d8576b"
             ],
             [
              0.6666666666666666,
              "#ed7953"
             ],
             [
              0.7777777777777778,
              "#fb9f3a"
             ],
             [
              0.8888888888888888,
              "#fdca26"
             ],
             [
              1,
              "#f0f921"
             ]
            ],
            "type": "contour"
           }
          ],
          "contourcarpet": [
           {
            "colorbar": {
             "outlinewidth": 0,
             "ticks": ""
            },
            "type": "contourcarpet"
           }
          ],
          "heatmap": [
           {
            "colorbar": {
             "outlinewidth": 0,
             "ticks": ""
            },
            "colorscale": [
             [
              0,
              "#0d0887"
             ],
             [
              0.1111111111111111,
              "#46039f"
             ],
             [
              0.2222222222222222,
              "#7201a8"
             ],
             [
              0.3333333333333333,
              "#9c179e"
             ],
             [
              0.4444444444444444,
              "#bd3786"
             ],
             [
              0.5555555555555556,
              "#d8576b"
             ],
             [
              0.6666666666666666,
              "#ed7953"
             ],
             [
              0.7777777777777778,
              "#fb9f3a"
             ],
             [
              0.8888888888888888,
              "#fdca26"
             ],
             [
              1,
              "#f0f921"
             ]
            ],
            "type": "heatmap"
           }
          ],
          "heatmapgl": [
           {
            "colorbar": {
             "outlinewidth": 0,
             "ticks": ""
            },
            "colorscale": [
             [
              0,
              "#0d0887"
             ],
             [
              0.1111111111111111,
              "#46039f"
             ],
             [
              0.2222222222222222,
              "#7201a8"
             ],
             [
              0.3333333333333333,
              "#9c179e"
             ],
             [
              0.4444444444444444,
              "#bd3786"
             ],
             [
              0.5555555555555556,
              "#d8576b"
             ],
             [
              0.6666666666666666,
              "#ed7953"
             ],
             [
              0.7777777777777778,
              "#fb9f3a"
             ],
             [
              0.8888888888888888,
              "#fdca26"
             ],
             [
              1,
              "#f0f921"
             ]
            ],
            "type": "heatmapgl"
           }
          ],
          "histogram": [
           {
            "marker": {
             "pattern": {
              "fillmode": "overlay",
              "size": 10,
              "solidity": 0.2
             }
            },
            "type": "histogram"
           }
          ],
          "histogram2d": [
           {
            "colorbar": {
             "outlinewidth": 0,
             "ticks": ""
            },
            "colorscale": [
             [
              0,
              "#0d0887"
             ],
             [
              0.1111111111111111,
              "#46039f"
             ],
             [
              0.2222222222222222,
              "#7201a8"
             ],
             [
              0.3333333333333333,
              "#9c179e"
             ],
             [
              0.4444444444444444,
              "#bd3786"
             ],
             [
              0.5555555555555556,
              "#d8576b"
             ],
             [
              0.6666666666666666,
              "#ed7953"
             ],
             [
              0.7777777777777778,
              "#fb9f3a"
             ],
             [
              0.8888888888888888,
              "#fdca26"
             ],
             [
              1,
              "#f0f921"
             ]
            ],
            "type": "histogram2d"
           }
          ],
          "histogram2dcontour": [
           {
            "colorbar": {
             "outlinewidth": 0,
             "ticks": ""
            },
            "colorscale": [
             [
              0,
              "#0d0887"
             ],
             [
              0.1111111111111111,
              "#46039f"
             ],
             [
              0.2222222222222222,
              "#7201a8"
             ],
             [
              0.3333333333333333,
              "#9c179e"
             ],
             [
              0.4444444444444444,
              "#bd3786"
             ],
             [
              0.5555555555555556,
              "#d8576b"
             ],
             [
              0.6666666666666666,
              "#ed7953"
             ],
             [
              0.7777777777777778,
              "#fb9f3a"
             ],
             [
              0.8888888888888888,
              "#fdca26"
             ],
             [
              1,
              "#f0f921"
             ]
            ],
            "type": "histogram2dcontour"
           }
          ],
          "mesh3d": [
           {
            "colorbar": {
             "outlinewidth": 0,
             "ticks": ""
            },
            "type": "mesh3d"
           }
          ],
          "parcoords": [
           {
            "line": {
             "colorbar": {
              "outlinewidth": 0,
              "ticks": ""
             }
            },
            "type": "parcoords"
           }
          ],
          "pie": [
           {
            "automargin": true,
            "type": "pie"
           }
          ],
          "scatter": [
           {
            "fillpattern": {
             "fillmode": "overlay",
             "size": 10,
             "solidity": 0.2
            },
            "type": "scatter"
           }
          ],
          "scatter3d": [
           {
            "line": {
             "colorbar": {
              "outlinewidth": 0,
              "ticks": ""
             }
            },
            "marker": {
             "colorbar": {
              "outlinewidth": 0,
              "ticks": ""
             }
            },
            "type": "scatter3d"
           }
          ],
          "scattercarpet": [
           {
            "marker": {
             "colorbar": {
              "outlinewidth": 0,
              "ticks": ""
             }
            },
            "type": "scattercarpet"
           }
          ],
          "scattergeo": [
           {
            "marker": {
             "colorbar": {
              "outlinewidth": 0,
              "ticks": ""
             }
            },
            "type": "scattergeo"
           }
          ],
          "scattergl": [
           {
            "marker": {
             "colorbar": {
              "outlinewidth": 0,
              "ticks": ""
             }
            },
            "type": "scattergl"
           }
          ],
          "scattermapbox": [
           {
            "marker": {
             "colorbar": {
              "outlinewidth": 0,
              "ticks": ""
             }
            },
            "type": "scattermapbox"
           }
          ],
          "scatterpolar": [
           {
            "marker": {
             "colorbar": {
              "outlinewidth": 0,
              "ticks": ""
             }
            },
            "type": "scatterpolar"
           }
          ],
          "scatterpolargl": [
           {
            "marker": {
             "colorbar": {
              "outlinewidth": 0,
              "ticks": ""
             }
            },
            "type": "scatterpolargl"
           }
          ],
          "scatterternary": [
           {
            "marker": {
             "colorbar": {
              "outlinewidth": 0,
              "ticks": ""
             }
            },
            "type": "scatterternary"
           }
          ],
          "surface": [
           {
            "colorbar": {
             "outlinewidth": 0,
             "ticks": ""
            },
            "colorscale": [
             [
              0,
              "#0d0887"
             ],
             [
              0.1111111111111111,
              "#46039f"
             ],
             [
              0.2222222222222222,
              "#7201a8"
             ],
             [
              0.3333333333333333,
              "#9c179e"
             ],
             [
              0.4444444444444444,
              "#bd3786"
             ],
             [
              0.5555555555555556,
              "#d8576b"
             ],
             [
              0.6666666666666666,
              "#ed7953"
             ],
             [
              0.7777777777777778,
              "#fb9f3a"
             ],
             [
              0.8888888888888888,
              "#fdca26"
             ],
             [
              1,
              "#f0f921"
             ]
            ],
            "type": "surface"
           }
          ],
          "table": [
           {
            "cells": {
             "fill": {
              "color": "#EBF0F8"
             },
             "line": {
              "color": "white"
             }
            },
            "header": {
             "fill": {
              "color": "#C8D4E3"
             },
             "line": {
              "color": "white"
             }
            },
            "type": "table"
           }
          ]
         },
         "layout": {
          "annotationdefaults": {
           "arrowcolor": "#2a3f5f",
           "arrowhead": 0,
           "arrowwidth": 1
          },
          "autotypenumbers": "strict",
          "coloraxis": {
           "colorbar": {
            "outlinewidth": 0,
            "ticks": ""
           }
          },
          "colorscale": {
           "diverging": [
            [
             0,
             "#8e0152"
            ],
            [
             0.1,
             "#c51b7d"
            ],
            [
             0.2,
             "#de77ae"
            ],
            [
             0.3,
             "#f1b6da"
            ],
            [
             0.4,
             "#fde0ef"
            ],
            [
             0.5,
             "#f7f7f7"
            ],
            [
             0.6,
             "#e6f5d0"
            ],
            [
             0.7,
             "#b8e186"
            ],
            [
             0.8,
             "#7fbc41"
            ],
            [
             0.9,
             "#4d9221"
            ],
            [
             1,
             "#276419"
            ]
           ],
           "sequential": [
            [
             0,
             "#0d0887"
            ],
            [
             0.1111111111111111,
             "#46039f"
            ],
            [
             0.2222222222222222,
             "#7201a8"
            ],
            [
             0.3333333333333333,
             "#9c179e"
            ],
            [
             0.4444444444444444,
             "#bd3786"
            ],
            [
             0.5555555555555556,
             "#d8576b"
            ],
            [
             0.6666666666666666,
             "#ed7953"
            ],
            [
             0.7777777777777778,
             "#fb9f3a"
            ],
            [
             0.8888888888888888,
             "#fdca26"
            ],
            [
             1,
             "#f0f921"
            ]
           ],
           "sequentialminus": [
            [
             0,
             "#0d0887"
            ],
            [
             0.1111111111111111,
             "#46039f"
            ],
            [
             0.2222222222222222,
             "#7201a8"
            ],
            [
             0.3333333333333333,
             "#9c179e"
            ],
            [
             0.4444444444444444,
             "#bd3786"
            ],
            [
             0.5555555555555556,
             "#d8576b"
            ],
            [
             0.6666666666666666,
             "#ed7953"
            ],
            [
             0.7777777777777778,
             "#fb9f3a"
            ],
            [
             0.8888888888888888,
             "#fdca26"
            ],
            [
             1,
             "#f0f921"
            ]
           ]
          },
          "colorway": [
           "#636efa",
           "#EF553B",
           "#00cc96",
           "#ab63fa",
           "#FFA15A",
           "#19d3f3",
           "#FF6692",
           "#B6E880",
           "#FF97FF",
           "#FECB52"
          ],
          "font": {
           "color": "#2a3f5f"
          },
          "geo": {
           "bgcolor": "white",
           "lakecolor": "white",
           "landcolor": "#E5ECF6",
           "showlakes": true,
           "showland": true,
           "subunitcolor": "white"
          },
          "hoverlabel": {
           "align": "left"
          },
          "hovermode": "closest",
          "mapbox": {
           "style": "light"
          },
          "paper_bgcolor": "white",
          "plot_bgcolor": "#E5ECF6",
          "polar": {
           "angularaxis": {
            "gridcolor": "white",
            "linecolor": "white",
            "ticks": ""
           },
           "bgcolor": "#E5ECF6",
           "radialaxis": {
            "gridcolor": "white",
            "linecolor": "white",
            "ticks": ""
           }
          },
          "scene": {
           "xaxis": {
            "backgroundcolor": "#E5ECF6",
            "gridcolor": "white",
            "gridwidth": 2,
            "linecolor": "white",
            "showbackground": true,
            "ticks": "",
            "zerolinecolor": "white"
           },
           "yaxis": {
            "backgroundcolor": "#E5ECF6",
            "gridcolor": "white",
            "gridwidth": 2,
            "linecolor": "white",
            "showbackground": true,
            "ticks": "",
            "zerolinecolor": "white"
           },
           "zaxis": {
            "backgroundcolor": "#E5ECF6",
            "gridcolor": "white",
            "gridwidth": 2,
            "linecolor": "white",
            "showbackground": true,
            "ticks": "",
            "zerolinecolor": "white"
           }
          },
          "shapedefaults": {
           "line": {
            "color": "#2a3f5f"
           }
          },
          "ternary": {
           "aaxis": {
            "gridcolor": "white",
            "linecolor": "white",
            "ticks": ""
           },
           "baxis": {
            "gridcolor": "white",
            "linecolor": "white",
            "ticks": ""
           },
           "bgcolor": "#E5ECF6",
           "caxis": {
            "gridcolor": "white",
            "linecolor": "white",
            "ticks": ""
           }
          },
          "title": {
           "x": 0.05
          },
          "xaxis": {
           "automargin": true,
           "gridcolor": "white",
           "linecolor": "white",
           "ticks": "",
           "title": {
            "standoff": 15
           },
           "zerolinecolor": "white",
           "zerolinewidth": 2
          },
          "yaxis": {
           "automargin": true,
           "gridcolor": "white",
           "linecolor": "white",
           "ticks": "",
           "title": {
            "standoff": 15
           },
           "zerolinecolor": "white",
           "zerolinewidth": 2
          }
         }
        },
        "title": {
         "text": "Relation Between Article Origin and Football Nation Mentioned (Filtered)"
        },
        "xaxis": {
         "anchor": "y",
         "domain": [
          0,
          1
         ],
         "title": {
          "text": "Article Origin"
         }
        },
        "yaxis": {
         "anchor": "x",
         "domain": [
          0,
          1
         ],
         "title": {
          "text": "Mentioned Football Nation"
         }
        }
       }
      }
     },
     "metadata": {},
     "output_type": "display_data"
    }
   ],
   "source": [
    "import plotly.express as px\n",
    "\n",
    "\n",
    "#plot the data as matrix:\n",
    "#X-axis: origin of the article\n",
    "#Y-axis: nationality of the club the article is about\n",
    "\n",
    "#for the nationality, the articles classified as None (means we were not able to understand the nationality of the club the article is about) \n",
    "#are not considered\n",
    "records = []\n",
    "for el in data:\n",
    "    origin = el.attrib.get('Origin', 'Unknown')\n",
    "    nation = el.attrib.get('Nation', 'None')\n",
    "    records.append({'Origin': origin, 'Nation': nation})\n",
    "\n",
    "df = pd.DataFrame(records)\n",
    "\n",
    "df['Nation'] = df['Nation'].fillna('None')\n",
    "\n",
    "df_filtered = df[(df['Nation'].str.lower() != 'none')]\n",
    "\n",
    "grouped = df_filtered.groupby(['Origin', 'Nation']).size().reset_index(name='Article Count')\n",
    "\n",
    "fig = px.density_heatmap(\n",
    "    grouped,\n",
    "    x='Origin',\n",
    "    y='Nation',\n",
    "    z='Article Count',\n",
    "    color_continuous_scale='Blues',\n",
    "    text_auto=True,\n",
    "    hover_name='Origin',\n",
    "    hover_data={'Nation': True, 'Article Count': True},\n",
    "    title='Relation Between Article Origin and Football Nation Mentioned (Filtered)'\n",
    ")\n",
    "\n",
    "fig.update_layout(\n",
    "    xaxis_title='Article Origin',\n",
    "    yaxis_title='Mentioned Football Nation',\n",
    "    hoverlabel=dict(bgcolor=\"white\", font_size=12, font_family=\"Arial\"),\n",
    "    height=600,\n",
    ")\n",
    "\n",
    "fig.show()\n",
    "\n",
    "\n",
    "\n",
    "#CONSIDERATION:\n",
    "#for most of the countries, the articles are mainly about clubs of its own nation.\n",
    "\n"
   ]
  }
 ],
 "metadata": {
  "kernelspec": {
   "display_name": "Python 3",
   "language": "python",
   "name": "python3"
  },
  "language_info": {
   "codemirror_mode": {
    "name": "ipython",
    "version": 3
   },
   "file_extension": ".py",
   "mimetype": "text/x-python",
   "name": "python",
   "nbconvert_exporter": "python",
   "pygments_lexer": "ipython3",
   "version": "3.7.3"
  }
 },
 "nbformat": 4,
 "nbformat_minor": 5
}
